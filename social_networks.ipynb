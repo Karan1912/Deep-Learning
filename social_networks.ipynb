{
 "cells": [
  {
   "cell_type": "code",
   "execution_count": 108,
   "metadata": {
    "id": "AZhDqgwgQb0H"
   },
   "outputs": [],
   "source": [
    "import pandas as pd\n",
    "import numpy as np\n",
    "import matplotlib.pyplot as plt\n",
    "import tensorflow as tf"
   ]
  },
  {
   "cell_type": "code",
   "execution_count": 109,
   "metadata": {
    "id": "o5_t5aSxQ-l1"
   },
   "outputs": [],
   "source": [
    "df = pd.read_csv('Social_Network_Ads.csv')"
   ]
  },
  {
   "cell_type": "code",
   "execution_count": 110,
   "metadata": {
    "colab": {
     "base_uri": "https://localhost:8080/"
    },
    "id": "YKb-dMQhRMbe",
    "outputId": "0427c29f-b65c-48f7-beaa-bb892da7f5b5"
   },
   "outputs": [
    {
     "name": "stdout",
     "output_type": "stream",
     "text": [
      "<class 'pandas.core.frame.DataFrame'>\n",
      "RangeIndex: 400 entries, 0 to 399\n",
      "Data columns (total 5 columns):\n",
      " #   Column           Non-Null Count  Dtype \n",
      "---  ------           --------------  ----- \n",
      " 0   User ID          400 non-null    int64 \n",
      " 1   Gender           400 non-null    object\n",
      " 2   Age              400 non-null    int64 \n",
      " 3   EstimatedSalary  400 non-null    int64 \n",
      " 4   Purchased        400 non-null    int64 \n",
      "dtypes: int64(4), object(1)\n",
      "memory usage: 15.8+ KB\n"
     ]
    }
   ],
   "source": [
    "df.info()"
   ]
  },
  {
   "cell_type": "code",
   "execution_count": 111,
   "metadata": {
    "colab": {
     "base_uri": "https://localhost:8080/",
     "height": 206
    },
    "id": "aYxG9EICROCE",
    "outputId": "acec847e-a05b-4950-9a21-4a57d2fdb4a0"
   },
   "outputs": [
    {
     "data": {
      "text/html": [
       "<div>\n",
       "<style scoped>\n",
       "    .dataframe tbody tr th:only-of-type {\n",
       "        vertical-align: middle;\n",
       "    }\n",
       "\n",
       "    .dataframe tbody tr th {\n",
       "        vertical-align: top;\n",
       "    }\n",
       "\n",
       "    .dataframe thead th {\n",
       "        text-align: right;\n",
       "    }\n",
       "</style>\n",
       "<table border=\"1\" class=\"dataframe\">\n",
       "  <thead>\n",
       "    <tr style=\"text-align: right;\">\n",
       "      <th></th>\n",
       "      <th>User ID</th>\n",
       "      <th>Gender</th>\n",
       "      <th>Age</th>\n",
       "      <th>EstimatedSalary</th>\n",
       "      <th>Purchased</th>\n",
       "    </tr>\n",
       "  </thead>\n",
       "  <tbody>\n",
       "    <tr>\n",
       "      <th>0</th>\n",
       "      <td>15624510</td>\n",
       "      <td>Male</td>\n",
       "      <td>19</td>\n",
       "      <td>19000</td>\n",
       "      <td>0</td>\n",
       "    </tr>\n",
       "    <tr>\n",
       "      <th>1</th>\n",
       "      <td>15810944</td>\n",
       "      <td>Male</td>\n",
       "      <td>35</td>\n",
       "      <td>20000</td>\n",
       "      <td>0</td>\n",
       "    </tr>\n",
       "    <tr>\n",
       "      <th>2</th>\n",
       "      <td>15668575</td>\n",
       "      <td>Female</td>\n",
       "      <td>26</td>\n",
       "      <td>43000</td>\n",
       "      <td>0</td>\n",
       "    </tr>\n",
       "    <tr>\n",
       "      <th>3</th>\n",
       "      <td>15603246</td>\n",
       "      <td>Female</td>\n",
       "      <td>27</td>\n",
       "      <td>57000</td>\n",
       "      <td>0</td>\n",
       "    </tr>\n",
       "    <tr>\n",
       "      <th>4</th>\n",
       "      <td>15804002</td>\n",
       "      <td>Male</td>\n",
       "      <td>19</td>\n",
       "      <td>76000</td>\n",
       "      <td>0</td>\n",
       "    </tr>\n",
       "  </tbody>\n",
       "</table>\n",
       "</div>"
      ],
      "text/plain": [
       "    User ID  Gender  Age  EstimatedSalary  Purchased\n",
       "0  15624510    Male   19            19000          0\n",
       "1  15810944    Male   35            20000          0\n",
       "2  15668575  Female   26            43000          0\n",
       "3  15603246  Female   27            57000          0\n",
       "4  15804002    Male   19            76000          0"
      ]
     },
     "execution_count": 111,
     "metadata": {},
     "output_type": "execute_result"
    }
   ],
   "source": [
    "df.head(5)"
   ]
  },
  {
   "cell_type": "code",
   "execution_count": 112,
   "metadata": {
    "id": "bn447lKPdHee"
   },
   "outputs": [],
   "source": [
    " from sklearn.preprocessing import LabelEncoder\n",
    "encoder = LabelEncoder()\n",
    "df['Gender'] = encoder.fit_transform(df.Gender)"
   ]
  },
  {
   "cell_type": "code",
   "execution_count": 113,
   "metadata": {
    "id": "pzPffJHwRQlE"
   },
   "outputs": [],
   "source": [
    "x = df.iloc[:,1:4].values"
   ]
  },
  {
   "cell_type": "code",
   "execution_count": 114,
   "metadata": {
    "id": "1pf2WB56Rnt0"
   },
   "outputs": [],
   "source": [
    "y = df.iloc[:,4:5].values"
   ]
  },
  {
   "cell_type": "code",
   "execution_count": 115,
   "metadata": {
    "id": "y2C80h83R9XE"
   },
   "outputs": [],
   "source": [
    "from sklearn.preprocessing import StandardScaler\n",
    "scaler = StandardScaler()"
   ]
  },
  {
   "cell_type": "code",
   "execution_count": 116,
   "metadata": {
    "id": "a4MmCrNRShhE"
   },
   "outputs": [],
   "source": [
    "x = scaler.fit_transform(x)"
   ]
  },
  {
   "cell_type": "code",
   "execution_count": 117,
   "metadata": {
    "colab": {
     "base_uri": "https://localhost:8080/"
    },
    "id": "xYM1sOPXf1jf",
    "outputId": "78a72ad1-4398-4952-d644-0b5dc9c980f6"
   },
   "outputs": [
    {
     "name": "stderr",
     "output_type": "stream",
     "text": [
      "/usr/local/lib/python3.7/dist-packages/ipykernel_launcher.py:4: DataConversionWarning: A column-vector y was passed when a 1d array was expected. Please change the shape of y to (n_samples,), for example using ravel().\n",
      "  after removing the cwd from sys.path.\n",
      "/usr/local/lib/python3.7/dist-packages/sklearn/ensemble/_gb.py:494: DataConversionWarning: A column-vector y was passed when a 1d array was expected. Please change the shape of y to (n_samples, ), for example using ravel().\n",
      "  y = column_or_1d(y, warn=True)\n"
     ]
    },
    {
     "name": "stdout",
     "output_type": "stream",
     "text": [
      "[0.01129037 0.55520339 0.43350624]\n",
      "[0.00775869 0.52079714 0.47144417]\n"
     ]
    }
   ],
   "source": [
    "from sklearn.ensemble import GradientBoostingClassifier,RandomForestClassifier\n",
    "gb = GradientBoostingClassifier()\n",
    "rf = RandomForestClassifier()\n",
    "rf.fit(x,y)\n",
    "gb.fit(x,y)\n",
    "print(gb.feature_importances_)\n",
    "print(rf.feature_importances_)"
   ]
  },
  {
   "cell_type": "code",
   "execution_count": 118,
   "metadata": {
    "id": "AGCVYI3TSoXU"
   },
   "outputs": [],
   "source": [
    "from sklearn.model_selection import train_test_split\n",
    "x_train,x_test,y_train,y_test = train_test_split(x,y,test_size=0.3)"
   ]
  },
  {
   "cell_type": "code",
   "execution_count": 119,
   "metadata": {
    "id": "-F84DKySSt8N"
   },
   "outputs": [],
   "source": [
    "model = tf.keras.models.Sequential()\n",
    "model.add(tf.keras.layers.Reshape((3,),input_shape=(3,)))"
   ]
  },
  {
   "cell_type": "code",
   "execution_count": 120,
   "metadata": {
    "id": "HqYEPvGcTZWV"
   },
   "outputs": [],
   "source": [
    "model.add(tf.keras.layers.BatchNormalization())"
   ]
  },
  {
   "cell_type": "code",
   "execution_count": 121,
   "metadata": {
    "id": "5VnifuqQTc31"
   },
   "outputs": [],
   "source": [
    "model.add(tf.keras.layers.Dense(50, activation='relu',input_shape=(3,)))\n",
    "model.add(tf.keras.layers.BatchNormalization())\n",
    "model.add(tf.keras.layers.Dense(30, activation='relu'))\n",
    "model.add(tf.keras.layers.BatchNormalization())\n",
    "model.add(tf.keras.layers.Dense(10, activation='relu'))\n",
    "model.add(tf.keras.layers.BatchNormalization())"
   ]
  },
  {
   "cell_type": "code",
   "execution_count": 122,
   "metadata": {
    "id": "44iZODjhTqMV"
   },
   "outputs": [],
   "source": [
    "model.add(tf.keras.layers.Dense(1, activation='sigmoid'))"
   ]
  },
  {
   "cell_type": "code",
   "execution_count": 123,
   "metadata": {
    "colab": {
     "base_uri": "https://localhost:8080/"
    },
    "id": "TMFHEpKPT3PF",
    "outputId": "191cf645-6824-4605-d578-01527a8ffd82"
   },
   "outputs": [
    {
     "name": "stderr",
     "output_type": "stream",
     "text": [
      "/usr/local/lib/python3.7/dist-packages/keras/optimizer_v2/gradient_descent.py:102: UserWarning: The `lr` argument is deprecated, use `learning_rate` instead.\n",
      "  super(SGD, self).__init__(name, **kwargs)\n"
     ]
    }
   ],
   "source": [
    "sgd_optimizer = tf.keras.optimizers.SGD(lr=0.01)\n",
    "model.compile(optimizer=sgd_optimizer, loss='binary_crossentropy', metrics=['accuracy'])"
   ]
  },
  {
   "cell_type": "code",
   "execution_count": 124,
   "metadata": {
    "colab": {
     "base_uri": "https://localhost:8080/"
    },
    "id": "5IBZC8_oT8cF",
    "outputId": "c9dc9945-8088-487d-b209-bc412ddec1b5"
   },
   "outputs": [
    {
     "name": "stdout",
     "output_type": "stream",
     "text": [
      "Epoch 1/100\n",
      "9/9 [==============================] - 1s 32ms/step - loss: 0.7938 - accuracy: 0.4357 - val_loss: 0.6953 - val_accuracy: 0.6417\n",
      "Epoch 2/100\n",
      "9/9 [==============================] - 0s 6ms/step - loss: 0.6266 - accuracy: 0.6286 - val_loss: 0.6904 - val_accuracy: 0.6333\n",
      "Epoch 3/100\n",
      "9/9 [==============================] - 0s 6ms/step - loss: 0.5602 - accuracy: 0.7107 - val_loss: 0.6868 - val_accuracy: 0.6250\n",
      "Epoch 4/100\n",
      "9/9 [==============================] - 0s 6ms/step - loss: 0.5090 - accuracy: 0.7500 - val_loss: 0.6838 - val_accuracy: 0.6333\n",
      "Epoch 5/100\n",
      "9/9 [==============================] - 0s 7ms/step - loss: 0.4696 - accuracy: 0.8107 - val_loss: 0.6802 - val_accuracy: 0.6083\n",
      "Epoch 6/100\n",
      "9/9 [==============================] - 0s 5ms/step - loss: 0.4386 - accuracy: 0.8500 - val_loss: 0.6771 - val_accuracy: 0.6500\n",
      "Epoch 7/100\n",
      "9/9 [==============================] - 0s 5ms/step - loss: 0.4076 - accuracy: 0.8571 - val_loss: 0.6738 - val_accuracy: 0.6750\n",
      "Epoch 8/100\n",
      "9/9 [==============================] - 0s 5ms/step - loss: 0.4032 - accuracy: 0.8679 - val_loss: 0.6702 - val_accuracy: 0.6833\n",
      "Epoch 9/100\n",
      "9/9 [==============================] - 0s 5ms/step - loss: 0.3772 - accuracy: 0.8786 - val_loss: 0.6661 - val_accuracy: 0.7000\n",
      "Epoch 10/100\n",
      "9/9 [==============================] - 0s 5ms/step - loss: 0.3796 - accuracy: 0.8571 - val_loss: 0.6615 - val_accuracy: 0.7167\n",
      "Epoch 11/100\n",
      "9/9 [==============================] - 0s 7ms/step - loss: 0.3591 - accuracy: 0.8821 - val_loss: 0.6552 - val_accuracy: 0.7750\n",
      "Epoch 12/100\n",
      "9/9 [==============================] - 0s 8ms/step - loss: 0.3362 - accuracy: 0.8964 - val_loss: 0.6465 - val_accuracy: 0.7667\n",
      "Epoch 13/100\n",
      "9/9 [==============================] - 0s 6ms/step - loss: 0.3462 - accuracy: 0.9143 - val_loss: 0.6386 - val_accuracy: 0.7667\n",
      "Epoch 14/100\n",
      "9/9 [==============================] - 0s 7ms/step - loss: 0.3409 - accuracy: 0.8964 - val_loss: 0.6295 - val_accuracy: 0.7750\n",
      "Epoch 15/100\n",
      "9/9 [==============================] - 0s 8ms/step - loss: 0.3235 - accuracy: 0.9000 - val_loss: 0.6213 - val_accuracy: 0.7750\n",
      "Epoch 16/100\n",
      "9/9 [==============================] - 0s 6ms/step - loss: 0.3076 - accuracy: 0.9036 - val_loss: 0.6096 - val_accuracy: 0.8000\n",
      "Epoch 17/100\n",
      "9/9 [==============================] - 0s 8ms/step - loss: 0.3290 - accuracy: 0.8821 - val_loss: 0.6042 - val_accuracy: 0.7917\n",
      "Epoch 18/100\n",
      "9/9 [==============================] - 0s 6ms/step - loss: 0.3098 - accuracy: 0.8964 - val_loss: 0.5942 - val_accuracy: 0.8250\n",
      "Epoch 19/100\n",
      "9/9 [==============================] - 0s 7ms/step - loss: 0.3084 - accuracy: 0.9036 - val_loss: 0.5835 - val_accuracy: 0.8333\n",
      "Epoch 20/100\n",
      "9/9 [==============================] - 0s 7ms/step - loss: 0.2865 - accuracy: 0.9071 - val_loss: 0.5688 - val_accuracy: 0.8583\n",
      "Epoch 21/100\n",
      "9/9 [==============================] - 0s 7ms/step - loss: 0.2767 - accuracy: 0.9143 - val_loss: 0.5591 - val_accuracy: 0.8583\n",
      "Epoch 22/100\n",
      "9/9 [==============================] - 0s 7ms/step - loss: 0.2894 - accuracy: 0.9107 - val_loss: 0.5435 - val_accuracy: 0.8667\n",
      "Epoch 23/100\n",
      "9/9 [==============================] - 0s 8ms/step - loss: 0.3059 - accuracy: 0.8893 - val_loss: 0.5323 - val_accuracy: 0.8917\n",
      "Epoch 24/100\n",
      "9/9 [==============================] - 0s 8ms/step - loss: 0.2842 - accuracy: 0.8929 - val_loss: 0.5207 - val_accuracy: 0.8917\n",
      "Epoch 25/100\n",
      "9/9 [==============================] - 0s 6ms/step - loss: 0.3033 - accuracy: 0.8893 - val_loss: 0.5078 - val_accuracy: 0.8833\n",
      "Epoch 26/100\n",
      "9/9 [==============================] - 0s 6ms/step - loss: 0.2707 - accuracy: 0.9036 - val_loss: 0.4925 - val_accuracy: 0.9000\n",
      "Epoch 27/100\n",
      "9/9 [==============================] - 0s 8ms/step - loss: 0.2825 - accuracy: 0.9000 - val_loss: 0.4835 - val_accuracy: 0.8917\n",
      "Epoch 28/100\n",
      "9/9 [==============================] - 0s 8ms/step - loss: 0.2869 - accuracy: 0.8929 - val_loss: 0.4708 - val_accuracy: 0.8917\n",
      "Epoch 29/100\n",
      "9/9 [==============================] - 0s 8ms/step - loss: 0.2814 - accuracy: 0.9000 - val_loss: 0.4574 - val_accuracy: 0.9083\n",
      "Epoch 30/100\n",
      "9/9 [==============================] - 0s 6ms/step - loss: 0.2496 - accuracy: 0.9214 - val_loss: 0.4524 - val_accuracy: 0.8917\n",
      "Epoch 31/100\n",
      "9/9 [==============================] - 0s 7ms/step - loss: 0.2487 - accuracy: 0.9107 - val_loss: 0.4365 - val_accuracy: 0.9083\n",
      "Epoch 32/100\n",
      "9/9 [==============================] - 0s 6ms/step - loss: 0.2661 - accuracy: 0.9107 - val_loss: 0.4220 - val_accuracy: 0.9083\n",
      "Epoch 33/100\n",
      "9/9 [==============================] - 0s 6ms/step - loss: 0.2430 - accuracy: 0.9179 - val_loss: 0.4071 - val_accuracy: 0.9000\n",
      "Epoch 34/100\n",
      "9/9 [==============================] - 0s 7ms/step - loss: 0.2746 - accuracy: 0.9000 - val_loss: 0.4040 - val_accuracy: 0.9000\n",
      "Epoch 35/100\n",
      "9/9 [==============================] - 0s 7ms/step - loss: 0.2532 - accuracy: 0.9107 - val_loss: 0.3940 - val_accuracy: 0.9000\n",
      "Epoch 36/100\n",
      "9/9 [==============================] - 0s 6ms/step - loss: 0.2467 - accuracy: 0.9179 - val_loss: 0.3941 - val_accuracy: 0.9000\n",
      "Epoch 37/100\n",
      "9/9 [==============================] - 0s 6ms/step - loss: 0.2559 - accuracy: 0.9071 - val_loss: 0.3848 - val_accuracy: 0.9000\n",
      "Epoch 38/100\n",
      "9/9 [==============================] - 0s 6ms/step - loss: 0.2406 - accuracy: 0.9143 - val_loss: 0.3765 - val_accuracy: 0.8917\n",
      "Epoch 39/100\n",
      "9/9 [==============================] - 0s 6ms/step - loss: 0.2542 - accuracy: 0.9071 - val_loss: 0.3634 - val_accuracy: 0.9000\n",
      "Epoch 40/100\n",
      "9/9 [==============================] - 0s 8ms/step - loss: 0.2696 - accuracy: 0.9000 - val_loss: 0.3486 - val_accuracy: 0.9000\n",
      "Epoch 41/100\n",
      "9/9 [==============================] - 0s 6ms/step - loss: 0.2431 - accuracy: 0.8929 - val_loss: 0.3484 - val_accuracy: 0.8917\n",
      "Epoch 42/100\n",
      "9/9 [==============================] - 0s 8ms/step - loss: 0.2602 - accuracy: 0.8893 - val_loss: 0.3396 - val_accuracy: 0.8917\n",
      "Epoch 43/100\n",
      "9/9 [==============================] - 0s 6ms/step - loss: 0.2427 - accuracy: 0.9107 - val_loss: 0.3264 - val_accuracy: 0.9000\n",
      "Epoch 44/100\n",
      "9/9 [==============================] - 0s 6ms/step - loss: 0.2477 - accuracy: 0.9071 - val_loss: 0.3225 - val_accuracy: 0.9000\n",
      "Epoch 45/100\n",
      "9/9 [==============================] - 0s 8ms/step - loss: 0.2278 - accuracy: 0.9357 - val_loss: 0.3244 - val_accuracy: 0.8917\n",
      "Epoch 46/100\n",
      "9/9 [==============================] - 0s 5ms/step - loss: 0.2220 - accuracy: 0.9107 - val_loss: 0.3171 - val_accuracy: 0.8833\n",
      "Epoch 47/100\n",
      "9/9 [==============================] - 0s 6ms/step - loss: 0.2088 - accuracy: 0.9321 - val_loss: 0.3172 - val_accuracy: 0.8833\n",
      "Epoch 48/100\n",
      "9/9 [==============================] - 0s 6ms/step - loss: 0.2722 - accuracy: 0.9036 - val_loss: 0.3109 - val_accuracy: 0.8833\n",
      "Epoch 49/100\n",
      "9/9 [==============================] - 0s 6ms/step - loss: 0.2258 - accuracy: 0.9214 - val_loss: 0.3119 - val_accuracy: 0.8833\n",
      "Epoch 50/100\n",
      "9/9 [==============================] - 0s 6ms/step - loss: 0.2564 - accuracy: 0.9250 - val_loss: 0.3076 - val_accuracy: 0.8833\n",
      "Epoch 51/100\n",
      "9/9 [==============================] - 0s 7ms/step - loss: 0.2424 - accuracy: 0.9286 - val_loss: 0.3083 - val_accuracy: 0.8917\n",
      "Epoch 52/100\n",
      "9/9 [==============================] - 0s 8ms/step - loss: 0.2161 - accuracy: 0.9143 - val_loss: 0.3104 - val_accuracy: 0.8833\n",
      "Epoch 53/100\n",
      "9/9 [==============================] - 0s 6ms/step - loss: 0.2276 - accuracy: 0.9107 - val_loss: 0.3095 - val_accuracy: 0.8833\n",
      "Epoch 54/100\n",
      "9/9 [==============================] - 0s 6ms/step - loss: 0.2514 - accuracy: 0.9036 - val_loss: 0.3030 - val_accuracy: 0.8917\n",
      "Epoch 55/100\n",
      "9/9 [==============================] - 0s 6ms/step - loss: 0.2414 - accuracy: 0.9179 - val_loss: 0.3067 - val_accuracy: 0.9000\n",
      "Epoch 56/100\n",
      "9/9 [==============================] - 0s 8ms/step - loss: 0.2249 - accuracy: 0.9107 - val_loss: 0.3062 - val_accuracy: 0.8917\n",
      "Epoch 57/100\n",
      "9/9 [==============================] - 0s 6ms/step - loss: 0.2446 - accuracy: 0.8929 - val_loss: 0.3016 - val_accuracy: 0.8917\n",
      "Epoch 58/100\n",
      "9/9 [==============================] - 0s 6ms/step - loss: 0.2604 - accuracy: 0.9036 - val_loss: 0.2989 - val_accuracy: 0.8917\n",
      "Epoch 59/100\n",
      "9/9 [==============================] - 0s 7ms/step - loss: 0.2332 - accuracy: 0.9107 - val_loss: 0.2965 - val_accuracy: 0.8833\n",
      "Epoch 60/100\n",
      "9/9 [==============================] - 0s 6ms/step - loss: 0.2288 - accuracy: 0.9036 - val_loss: 0.2991 - val_accuracy: 0.8917\n",
      "Epoch 61/100\n",
      "9/9 [==============================] - 0s 6ms/step - loss: 0.2506 - accuracy: 0.9250 - val_loss: 0.2991 - val_accuracy: 0.8833\n",
      "Epoch 62/100\n",
      "9/9 [==============================] - 0s 7ms/step - loss: 0.2367 - accuracy: 0.9036 - val_loss: 0.2978 - val_accuracy: 0.8833\n",
      "Epoch 63/100\n",
      "9/9 [==============================] - 0s 8ms/step - loss: 0.2152 - accuracy: 0.9107 - val_loss: 0.2966 - val_accuracy: 0.8833\n",
      "Epoch 64/100\n",
      "9/9 [==============================] - 0s 7ms/step - loss: 0.2749 - accuracy: 0.8929 - val_loss: 0.2920 - val_accuracy: 0.8917\n",
      "Epoch 65/100\n",
      "9/9 [==============================] - 0s 8ms/step - loss: 0.2223 - accuracy: 0.9107 - val_loss: 0.2987 - val_accuracy: 0.8833\n",
      "Epoch 66/100\n",
      "9/9 [==============================] - 0s 6ms/step - loss: 0.2062 - accuracy: 0.9214 - val_loss: 0.3020 - val_accuracy: 0.8833\n",
      "Epoch 67/100\n",
      "9/9 [==============================] - 0s 7ms/step - loss: 0.2410 - accuracy: 0.9000 - val_loss: 0.3057 - val_accuracy: 0.8833\n",
      "Epoch 68/100\n",
      "9/9 [==============================] - 0s 6ms/step - loss: 0.2346 - accuracy: 0.9143 - val_loss: 0.3012 - val_accuracy: 0.8833\n",
      "Epoch 69/100\n",
      "9/9 [==============================] - 0s 6ms/step - loss: 0.2204 - accuracy: 0.9179 - val_loss: 0.3049 - val_accuracy: 0.8917\n",
      "Epoch 70/100\n",
      "9/9 [==============================] - 0s 6ms/step - loss: 0.2455 - accuracy: 0.9071 - val_loss: 0.3033 - val_accuracy: 0.8833\n",
      "Epoch 71/100\n",
      "9/9 [==============================] - 0s 8ms/step - loss: 0.2239 - accuracy: 0.9107 - val_loss: 0.3018 - val_accuracy: 0.8833\n",
      "Epoch 72/100\n",
      "9/9 [==============================] - 0s 6ms/step - loss: 0.2216 - accuracy: 0.9143 - val_loss: 0.3022 - val_accuracy: 0.8750\n",
      "Epoch 73/100\n",
      "9/9 [==============================] - 0s 7ms/step - loss: 0.2331 - accuracy: 0.9179 - val_loss: 0.2995 - val_accuracy: 0.8833\n",
      "Epoch 74/100\n",
      "9/9 [==============================] - 0s 7ms/step - loss: 0.2199 - accuracy: 0.9071 - val_loss: 0.2980 - val_accuracy: 0.8833\n",
      "Epoch 75/100\n",
      "9/9 [==============================] - 0s 8ms/step - loss: 0.2270 - accuracy: 0.9036 - val_loss: 0.3003 - val_accuracy: 0.8833\n",
      "Epoch 76/100\n",
      "9/9 [==============================] - 0s 5ms/step - loss: 0.2594 - accuracy: 0.8857 - val_loss: 0.2979 - val_accuracy: 0.8833\n",
      "Epoch 77/100\n",
      "9/9 [==============================] - 0s 6ms/step - loss: 0.2730 - accuracy: 0.8714 - val_loss: 0.2937 - val_accuracy: 0.8833\n",
      "Epoch 78/100\n",
      "9/9 [==============================] - 0s 6ms/step - loss: 0.2454 - accuracy: 0.9036 - val_loss: 0.2861 - val_accuracy: 0.9000\n",
      "Epoch 79/100\n",
      "9/9 [==============================] - 0s 6ms/step - loss: 0.2166 - accuracy: 0.9179 - val_loss: 0.2881 - val_accuracy: 0.8917\n",
      "Epoch 80/100\n",
      "9/9 [==============================] - 0s 6ms/step - loss: 0.2311 - accuracy: 0.8964 - val_loss: 0.2937 - val_accuracy: 0.8917\n",
      "Epoch 81/100\n",
      "9/9 [==============================] - 0s 8ms/step - loss: 0.2791 - accuracy: 0.8893 - val_loss: 0.2943 - val_accuracy: 0.8833\n",
      "Epoch 82/100\n",
      "9/9 [==============================] - 0s 6ms/step - loss: 0.2225 - accuracy: 0.9143 - val_loss: 0.2943 - val_accuracy: 0.8833\n",
      "Epoch 83/100\n",
      "9/9 [==============================] - 0s 6ms/step - loss: 0.2222 - accuracy: 0.9107 - val_loss: 0.2943 - val_accuracy: 0.8833\n",
      "Epoch 84/100\n",
      "9/9 [==============================] - 0s 7ms/step - loss: 0.2485 - accuracy: 0.9071 - val_loss: 0.2940 - val_accuracy: 0.8833\n",
      "Epoch 85/100\n",
      "9/9 [==============================] - 0s 5ms/step - loss: 0.2265 - accuracy: 0.9179 - val_loss: 0.2967 - val_accuracy: 0.8833\n",
      "Epoch 86/100\n",
      "9/9 [==============================] - 0s 8ms/step - loss: 0.2458 - accuracy: 0.9071 - val_loss: 0.2991 - val_accuracy: 0.8833\n",
      "Epoch 87/100\n",
      "9/9 [==============================] - 0s 8ms/step - loss: 0.2221 - accuracy: 0.9214 - val_loss: 0.3080 - val_accuracy: 0.8750\n",
      "Epoch 88/100\n",
      "9/9 [==============================] - 0s 6ms/step - loss: 0.2549 - accuracy: 0.8964 - val_loss: 0.2991 - val_accuracy: 0.8833\n",
      "Epoch 89/100\n",
      "9/9 [==============================] - 0s 8ms/step - loss: 0.2195 - accuracy: 0.9000 - val_loss: 0.3010 - val_accuracy: 0.8750\n",
      "Epoch 90/100\n",
      "9/9 [==============================] - 0s 7ms/step - loss: 0.2147 - accuracy: 0.9286 - val_loss: 0.3021 - val_accuracy: 0.8750\n",
      "Epoch 91/100\n",
      "9/9 [==============================] - 0s 8ms/step - loss: 0.2228 - accuracy: 0.9179 - val_loss: 0.3009 - val_accuracy: 0.8750\n",
      "Epoch 92/100\n",
      "9/9 [==============================] - 0s 8ms/step - loss: 0.2131 - accuracy: 0.9143 - val_loss: 0.2927 - val_accuracy: 0.8833\n",
      "Epoch 93/100\n",
      "9/9 [==============================] - 0s 8ms/step - loss: 0.2228 - accuracy: 0.9071 - val_loss: 0.2939 - val_accuracy: 0.8833\n",
      "Epoch 94/100\n",
      "9/9 [==============================] - 0s 7ms/step - loss: 0.2143 - accuracy: 0.9214 - val_loss: 0.2943 - val_accuracy: 0.8833\n",
      "Epoch 95/100\n",
      "9/9 [==============================] - 0s 7ms/step - loss: 0.2111 - accuracy: 0.9250 - val_loss: 0.2963 - val_accuracy: 0.8917\n",
      "Epoch 96/100\n",
      "9/9 [==============================] - 0s 5ms/step - loss: 0.2518 - accuracy: 0.9036 - val_loss: 0.2987 - val_accuracy: 0.8917\n",
      "Epoch 97/100\n",
      "9/9 [==============================] - 0s 6ms/step - loss: 0.2365 - accuracy: 0.9179 - val_loss: 0.2982 - val_accuracy: 0.8833\n",
      "Epoch 98/100\n",
      "9/9 [==============================] - 0s 6ms/step - loss: 0.2746 - accuracy: 0.8786 - val_loss: 0.2919 - val_accuracy: 0.8833\n",
      "Epoch 99/100\n",
      "9/9 [==============================] - 0s 6ms/step - loss: 0.2262 - accuracy: 0.9143 - val_loss: 0.2981 - val_accuracy: 0.8750\n",
      "Epoch 100/100\n",
      "9/9 [==============================] - 0s 6ms/step - loss: 0.2524 - accuracy: 0.9036 - val_loss: 0.3060 - val_accuracy: 0.8750\n"
     ]
    },
    {
     "data": {
      "text/plain": [
       "<keras.callbacks.History at 0x7f842e80ed90>"
      ]
     },
     "execution_count": 124,
     "metadata": {},
     "output_type": "execute_result"
    }
   ],
   "source": [
    "model.fit(x_train,y_train,          \n",
    "          validation_data=(x_test,y_test),\n",
    "          epochs=100,\n",
    "          batch_size=32)"
   ]
  },
  {
   "cell_type": "code",
   "execution_count": 95,
   "metadata": {
    "id": "W6TtTBnsVnPm"
   },
   "outputs": [],
   "source": []
  }
 ],
 "metadata": {
  "colab": {
   "name": "social_networks(D.L).ipynb",
   "provenance": []
  },
  "kernelspec": {
   "display_name": "Python 3 (ipykernel)",
   "language": "python",
   "name": "python3"
  },
  "language_info": {
   "codemirror_mode": {
    "name": "ipython",
    "version": 3
   },
   "file_extension": ".py",
   "mimetype": "text/x-python",
   "name": "python",
   "nbconvert_exporter": "python",
   "pygments_lexer": "ipython3",
   "version": "3.9.5"
  }
 },
 "nbformat": 4,
 "nbformat_minor": 1
}
