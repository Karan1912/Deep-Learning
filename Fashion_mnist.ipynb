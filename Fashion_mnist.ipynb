{
 "cells": [
  {
   "cell_type": "code",
   "execution_count": 15,
   "metadata": {
    "id": "REuaG3C6Is5s"
   },
   "outputs": [],
   "source": [
    "import tensorflow as tf\n",
    "import matplotlib.pyplot as plt"
   ]
  },
  {
   "cell_type": "code",
   "execution_count": 16,
   "metadata": {
    "id": "kYTN3LEzI4iY"
   },
   "outputs": [],
   "source": [
    "(trainX,trainY),(testX,testY)= tf.keras.datasets.fashion_mnist.load_data()"
   ]
  },
  {
   "cell_type": "code",
   "execution_count": 19,
   "metadata": {
    "colab": {
     "base_uri": "https://localhost:8080/",
     "height": 283
    },
    "id": "zMW1XcM2spF3",
    "outputId": "d23ad50e-77a2-4b66-e6fb-ce3d4d8b914d"
   },
   "outputs": [
    {
     "data": {
      "text/plain": [
       "<matplotlib.image.AxesImage at 0x7f9881dc0810>"
      ]
     },
     "execution_count": 19,
     "metadata": {},
     "output_type": "execute_result"
    },
    {
     "data": {
      "image/png": "[encoded data removed]",
      "text/plain": [
       "<Figure size 432x288 with 1 Axes>"
      ]
     },
     "metadata": {
      "needs_background": "light"
     },
     "output_type": "display_data"
    }
   ],
   "source": [
    "plt.imshow(trainX[3])"
   ]
  },
  {
   "cell_type": "code",
   "execution_count": 4,
   "metadata": {
    "id": "0Fz4F-LbJv75"
   },
   "outputs": [],
   "source": [
    "trainY = tf.keras.utils.to_categorical(trainY,num_classes=10)\n",
    "testY = tf.keras.utils.to_categorical(testY,num_classes=10)"
   ]
  },
  {
   "cell_type": "code",
   "execution_count": 6,
   "metadata": {
    "colab": {
     "base_uri": "https://localhost:8080/"
    },
    "id": "EEfpa541f0Hy",
    "outputId": "2ff47ee4-178f-4f57-b7a5-a6d901d583e8"
   },
   "outputs": [
    {
     "data": {
      "text/plain": [
       "array([[0., 0., 0., 0., 0., 0., 0., 0., 0., 1.],\n",
       "       [1., 0., 0., 0., 0., 0., 0., 0., 0., 0.]], dtype=float32)"
      ]
     },
     "execution_count": 6,
     "metadata": {},
     "output_type": "execute_result"
    }
   ],
   "source": [
    "trainY[0:2]"
   ]
  },
  {
   "cell_type": "code",
   "execution_count": 7,
   "metadata": {
    "id": "Au6ZsqHRf8YV"
   },
   "outputs": [],
   "source": [
    "model = tf.keras.models.Sequential()\n",
    "model.add(tf.keras.layers.Reshape((784,), input_shape=(28,28,)))"
   ]
  },
  {
   "cell_type": "code",
   "execution_count": 8,
   "metadata": {
    "id": "L_Hh8HkUgINa"
   },
   "outputs": [],
   "source": [
    "model.add(tf.keras.layers.BatchNormalization())\n",
    "model.add((tf.keras.layers.Dense(100, activation='relu')))\n",
    "model.add(tf.keras.layers.BatchNormalization())\n",
    "model.add((tf.keras.layers.Dense(50, activation='relu')))\n",
    "model.add(tf.keras.layers.BatchNormalization())\n",
    "model.add((tf.keras.layers.Dense(20, activation='relu')))\n",
    "model.add(tf.keras.layers.BatchNormalization())"
   ]
  },
  {
   "cell_type": "code",
   "execution_count": 9,
   "metadata": {
    "id": "YoE3KRPkgWNS"
   },
   "outputs": [],
   "source": [
    "model.add(tf.keras.layers.Dense(10, activation='softmax'))"
   ]
  },
  {
   "cell_type": "code",
   "execution_count": 10,
   "metadata": {
    "id": "FDCHKS_GgbGS"
   },
   "outputs": [],
   "source": [
    "model.compile(optimizer='sgd', loss='categorical_crossentropy', metrics=['accuracy'])"
   ]
  },
  {
   "cell_type": "code",
   "execution_count": 11,
   "metadata": {
    "colab": {
     "base_uri": "https://localhost:8080/"
    },
    "id": "Jv_mFYACghJ0",
    "outputId": "24ff79c0-208c-4caf-f8ce-9d3ed2cc9e75"
   },
   "outputs": [
    {
     "name": "stdout",
     "output_type": "stream",
     "text": [
      "Epoch 1/100\n",
      "1875/1875 [==============================] - 10s 4ms/step - loss: 0.6552 - accuracy: 0.7837 - val_loss: 0.4566 - val_accuracy: 0.8405\n",
      "Epoch 2/100\n",
      "1875/1875 [==============================] - 8s 4ms/step - loss: 0.4570 - accuracy: 0.8388 - val_loss: 0.4084 - val_accuracy: 0.8559\n",
      "Epoch 3/100\n",
      "1875/1875 [==============================] - 8s 4ms/step - loss: 0.4097 - accuracy: 0.8546 - val_loss: 0.3891 - val_accuracy: 0.8602\n",
      "Epoch 4/100\n",
      "1875/1875 [==============================] - 8s 4ms/step - loss: 0.3848 - accuracy: 0.8618 - val_loss: 0.3783 - val_accuracy: 0.8652\n",
      "Epoch 5/100\n",
      "1875/1875 [==============================] - 8s 4ms/step - loss: 0.3676 - accuracy: 0.8683 - val_loss: 0.3830 - val_accuracy: 0.8669\n",
      "Epoch 6/100\n",
      "1875/1875 [==============================] - 8s 4ms/step - loss: 0.3513 - accuracy: 0.8738 - val_loss: 0.3663 - val_accuracy: 0.8705\n",
      "Epoch 7/100\n",
      "1875/1875 [==============================] - 8s 4ms/step - loss: 0.3377 - accuracy: 0.8769 - val_loss: 0.3653 - val_accuracy: 0.8710\n",
      "Epoch 8/100\n",
      "1875/1875 [==============================] - 8s 4ms/step - loss: 0.3283 - accuracy: 0.8806 - val_loss: 0.3591 - val_accuracy: 0.8718\n",
      "Epoch 9/100\n",
      "1875/1875 [==============================] - 8s 4ms/step - loss: 0.3183 - accuracy: 0.8850 - val_loss: 0.3633 - val_accuracy: 0.8744\n",
      "Epoch 10/100\n",
      "1875/1875 [==============================] - 7s 4ms/step - loss: 0.3106 - accuracy: 0.8864 - val_loss: 0.3632 - val_accuracy: 0.8792\n",
      "Epoch 11/100\n",
      "1875/1875 [==============================] - 7s 4ms/step - loss: 0.3023 - accuracy: 0.8902 - val_loss: 0.3480 - val_accuracy: 0.8797\n",
      "Epoch 12/100\n",
      "1875/1875 [==============================] - 7s 4ms/step - loss: 0.2920 - accuracy: 0.8932 - val_loss: 0.3626 - val_accuracy: 0.8776\n",
      "Epoch 13/100\n",
      "1875/1875 [==============================] - 7s 4ms/step - loss: 0.2890 - accuracy: 0.8942 - val_loss: 0.3426 - val_accuracy: 0.8817\n",
      "Epoch 14/100\n",
      "1875/1875 [==============================] - 7s 4ms/step - loss: 0.2828 - accuracy: 0.8950 - val_loss: 0.3733 - val_accuracy: 0.8785\n",
      "Epoch 15/100\n",
      "1875/1875 [==============================] - 7s 4ms/step - loss: 0.2784 - accuracy: 0.8979 - val_loss: 0.3478 - val_accuracy: 0.8811\n",
      "Epoch 16/100\n",
      "1875/1875 [==============================] - 7s 4ms/step - loss: 0.2709 - accuracy: 0.9001 - val_loss: 0.3487 - val_accuracy: 0.8808\n",
      "Epoch 17/100\n",
      "1875/1875 [==============================] - 7s 4ms/step - loss: 0.2659 - accuracy: 0.9015 - val_loss: 0.3587 - val_accuracy: 0.8799\n",
      "Epoch 18/100\n",
      "1875/1875 [==============================] - 7s 4ms/step - loss: 0.2648 - accuracy: 0.9021 - val_loss: 0.3467 - val_accuracy: 0.8798\n",
      "Epoch 19/100\n",
      "1875/1875 [==============================] - 7s 4ms/step - loss: 0.2598 - accuracy: 0.9034 - val_loss: 0.3628 - val_accuracy: 0.8798\n",
      "Epoch 20/100\n",
      "1875/1875 [==============================] - 7s 4ms/step - loss: 0.2538 - accuracy: 0.9061 - val_loss: 0.3450 - val_accuracy: 0.8829\n",
      "Epoch 21/100\n",
      "1875/1875 [==============================] - 7s 4ms/step - loss: 0.2502 - accuracy: 0.9079 - val_loss: 0.3522 - val_accuracy: 0.8834\n",
      "Epoch 22/100\n",
      "1875/1875 [==============================] - 7s 4ms/step - loss: 0.2472 - accuracy: 0.9094 - val_loss: 0.3407 - val_accuracy: 0.8826\n",
      "Epoch 23/100\n",
      "1875/1875 [==============================] - 8s 4ms/step - loss: 0.2442 - accuracy: 0.9093 - val_loss: 0.3569 - val_accuracy: 0.8829\n",
      "Epoch 24/100\n",
      "1875/1875 [==============================] - 7s 4ms/step - loss: 0.2388 - accuracy: 0.9112 - val_loss: 0.3638 - val_accuracy: 0.8814\n",
      "Epoch 25/100\n",
      "1875/1875 [==============================] - 7s 4ms/step - loss: 0.2353 - accuracy: 0.9127 - val_loss: 0.3538 - val_accuracy: 0.8812\n",
      "Epoch 26/100\n",
      "1875/1875 [==============================] - 8s 4ms/step - loss: 0.2308 - accuracy: 0.9132 - val_loss: 0.3686 - val_accuracy: 0.8805\n",
      "Epoch 27/100\n",
      "1875/1875 [==============================] - 7s 4ms/step - loss: 0.2314 - accuracy: 0.9134 - val_loss: 0.3644 - val_accuracy: 0.8804\n",
      "Epoch 28/100\n",
      "1875/1875 [==============================] - 7s 4ms/step - loss: 0.2280 - accuracy: 0.9148 - val_loss: 0.3523 - val_accuracy: 0.8823\n",
      "Epoch 29/100\n",
      "1875/1875 [==============================] - 7s 4ms/step - loss: 0.2235 - accuracy: 0.9173 - val_loss: 0.3583 - val_accuracy: 0.8831\n",
      "Epoch 30/100\n",
      "1875/1875 [==============================] - 7s 4ms/step - loss: 0.2202 - accuracy: 0.9179 - val_loss: 0.3641 - val_accuracy: 0.8822\n",
      "Epoch 31/100\n",
      "1875/1875 [==============================] - 7s 4ms/step - loss: 0.2155 - accuracy: 0.9201 - val_loss: 0.3521 - val_accuracy: 0.8836\n",
      "Epoch 32/100\n",
      "1875/1875 [==============================] - 7s 4ms/step - loss: 0.2181 - accuracy: 0.9186 - val_loss: 0.3818 - val_accuracy: 0.8792\n",
      "Epoch 33/100\n",
      "1875/1875 [==============================] - 7s 4ms/step - loss: 0.2116 - accuracy: 0.9216 - val_loss: 0.3523 - val_accuracy: 0.8863\n",
      "Epoch 34/100\n",
      "1875/1875 [==============================] - 7s 4ms/step - loss: 0.2119 - accuracy: 0.9208 - val_loss: 0.3555 - val_accuracy: 0.8870\n",
      "Epoch 35/100\n",
      "1875/1875 [==============================] - 7s 4ms/step - loss: 0.2059 - accuracy: 0.9234 - val_loss: 0.3773 - val_accuracy: 0.8846\n",
      "Epoch 36/100\n",
      "1875/1875 [==============================] - 7s 4ms/step - loss: 0.2065 - accuracy: 0.9233 - val_loss: 0.3591 - val_accuracy: 0.8839\n",
      "Epoch 37/100\n",
      "1875/1875 [==============================] - 7s 4ms/step - loss: 0.2033 - accuracy: 0.9242 - val_loss: 0.3679 - val_accuracy: 0.8816\n",
      "Epoch 38/100\n",
      "1875/1875 [==============================] - 7s 4ms/step - loss: 0.2023 - accuracy: 0.9247 - val_loss: 0.3735 - val_accuracy: 0.8814\n",
      "Epoch 39/100\n",
      "1875/1875 [==============================] - 7s 4ms/step - loss: 0.1989 - accuracy: 0.9261 - val_loss: 0.3648 - val_accuracy: 0.8816\n",
      "Epoch 40/100\n",
      "1875/1875 [==============================] - 8s 4ms/step - loss: 0.1951 - accuracy: 0.9275 - val_loss: 0.3932 - val_accuracy: 0.8798\n",
      "Epoch 41/100\n",
      "1875/1875 [==============================] - 8s 4ms/step - loss: 0.1982 - accuracy: 0.9273 - val_loss: 0.3622 - val_accuracy: 0.8869\n",
      "Epoch 42/100\n",
      "1875/1875 [==============================] - 8s 4ms/step - loss: 0.1912 - accuracy: 0.9284 - val_loss: 0.4317 - val_accuracy: 0.8833\n",
      "Epoch 43/100\n",
      "1875/1875 [==============================] - 7s 4ms/step - loss: 0.1920 - accuracy: 0.9279 - val_loss: 0.3932 - val_accuracy: 0.8838\n",
      "Epoch 44/100\n",
      "1875/1875 [==============================] - 8s 4ms/step - loss: 0.1884 - accuracy: 0.9305 - val_loss: 0.3778 - val_accuracy: 0.8848\n",
      "Epoch 45/100\n",
      "1875/1875 [==============================] - 7s 4ms/step - loss: 0.1863 - accuracy: 0.9308 - val_loss: 0.3937 - val_accuracy: 0.8864\n",
      "Epoch 46/100\n",
      "1875/1875 [==============================] - 8s 4ms/step - loss: 0.1879 - accuracy: 0.9308 - val_loss: 0.3820 - val_accuracy: 0.8837\n",
      "Epoch 47/100\n",
      "1875/1875 [==============================] - 8s 4ms/step - loss: 0.1873 - accuracy: 0.9304 - val_loss: 0.3881 - val_accuracy: 0.8856\n",
      "Epoch 48/100\n",
      "1875/1875 [==============================] - 8s 4ms/step - loss: 0.1809 - accuracy: 0.9322 - val_loss: 0.4103 - val_accuracy: 0.8843\n",
      "Epoch 49/100\n",
      "1875/1875 [==============================] - 8s 4ms/step - loss: 0.1797 - accuracy: 0.9331 - val_loss: 0.3877 - val_accuracy: 0.8866\n",
      "Epoch 50/100\n",
      "1875/1875 [==============================] - 7s 4ms/step - loss: 0.1793 - accuracy: 0.9334 - val_loss: 0.3958 - val_accuracy: 0.8827\n",
      "Epoch 51/100\n",
      "1875/1875 [==============================] - 8s 4ms/step - loss: 0.1772 - accuracy: 0.9344 - val_loss: 0.3899 - val_accuracy: 0.8824\n",
      "Epoch 52/100\n",
      "1875/1875 [==============================] - 8s 4ms/step - loss: 0.1762 - accuracy: 0.9348 - val_loss: 0.3745 - val_accuracy: 0.8877\n",
      "Epoch 53/100\n",
      "1875/1875 [==============================] - 8s 4ms/step - loss: 0.1755 - accuracy: 0.9337 - val_loss: 0.3815 - val_accuracy: 0.8828\n",
      "Epoch 54/100\n",
      "1875/1875 [==============================] - 8s 4ms/step - loss: 0.1710 - accuracy: 0.9362 - val_loss: 0.3782 - val_accuracy: 0.8858\n",
      "Epoch 55/100\n",
      "1875/1875 [==============================] - 8s 4ms/step - loss: 0.1710 - accuracy: 0.9364 - val_loss: 0.4116 - val_accuracy: 0.8768\n",
      "Epoch 56/100\n",
      "1875/1875 [==============================] - 8s 4ms/step - loss: 0.1682 - accuracy: 0.9378 - val_loss: 0.3939 - val_accuracy: 0.8869\n",
      "Epoch 57/100\n",
      "1875/1875 [==============================] - 7s 4ms/step - loss: 0.1684 - accuracy: 0.9374 - val_loss: 0.4018 - val_accuracy: 0.8847\n",
      "Epoch 58/100\n",
      "1875/1875 [==============================] - 7s 4ms/step - loss: 0.1669 - accuracy: 0.9377 - val_loss: 0.3906 - val_accuracy: 0.8870\n",
      "Epoch 59/100\n",
      "1875/1875 [==============================] - 8s 4ms/step - loss: 0.1670 - accuracy: 0.9380 - val_loss: 0.3811 - val_accuracy: 0.8808\n",
      "Epoch 60/100\n",
      "1875/1875 [==============================] - 7s 4ms/step - loss: 0.1631 - accuracy: 0.9384 - val_loss: 0.4417 - val_accuracy: 0.8837\n",
      "Epoch 61/100\n",
      "1875/1875 [==============================] - 7s 4ms/step - loss: 0.1609 - accuracy: 0.9399 - val_loss: 0.3762 - val_accuracy: 0.8852\n",
      "Epoch 62/100\n",
      "1875/1875 [==============================] - 7s 4ms/step - loss: 0.1600 - accuracy: 0.9401 - val_loss: 0.3961 - val_accuracy: 0.8851\n",
      "Epoch 63/100\n",
      "1875/1875 [==============================] - 7s 4ms/step - loss: 0.1600 - accuracy: 0.9408 - val_loss: 0.3902 - val_accuracy: 0.8858\n",
      "Epoch 64/100\n",
      "1875/1875 [==============================] - 7s 4ms/step - loss: 0.1582 - accuracy: 0.9403 - val_loss: 0.4442 - val_accuracy: 0.8827\n",
      "Epoch 65/100\n",
      "1875/1875 [==============================] - 7s 4ms/step - loss: 0.1562 - accuracy: 0.9425 - val_loss: 0.4173 - val_accuracy: 0.8812\n",
      "Epoch 66/100\n",
      "1875/1875 [==============================] - 7s 4ms/step - loss: 0.1571 - accuracy: 0.9416 - val_loss: 0.4265 - val_accuracy: 0.8806\n",
      "Epoch 67/100\n",
      "1875/1875 [==============================] - 7s 4ms/step - loss: 0.1520 - accuracy: 0.9428 - val_loss: 0.3935 - val_accuracy: 0.8851\n",
      "Epoch 68/100\n",
      "1875/1875 [==============================] - 7s 4ms/step - loss: 0.1553 - accuracy: 0.9424 - val_loss: 0.4345 - val_accuracy: 0.8866\n",
      "Epoch 69/100\n",
      "1875/1875 [==============================] - 7s 4ms/step - loss: 0.1536 - accuracy: 0.9428 - val_loss: 0.4128 - val_accuracy: 0.8840\n",
      "Epoch 70/100\n",
      "1875/1875 [==============================] - 7s 4ms/step - loss: 0.1505 - accuracy: 0.9434 - val_loss: 0.4287 - val_accuracy: 0.8848\n",
      "Epoch 71/100\n",
      "1875/1875 [==============================] - 7s 4ms/step - loss: 0.1523 - accuracy: 0.9433 - val_loss: 0.4223 - val_accuracy: 0.8815\n",
      "Epoch 72/100\n",
      "1875/1875 [==============================] - 8s 4ms/step - loss: 0.1516 - accuracy: 0.9423 - val_loss: 0.4320 - val_accuracy: 0.8835\n",
      "Epoch 73/100\n",
      "1875/1875 [==============================] - 7s 4ms/step - loss: 0.1480 - accuracy: 0.9453 - val_loss: 0.4152 - val_accuracy: 0.8824\n",
      "Epoch 74/100\n",
      "1875/1875 [==============================] - 8s 4ms/step - loss: 0.1476 - accuracy: 0.9452 - val_loss: 0.4451 - val_accuracy: 0.8825\n",
      "Epoch 75/100\n",
      "1875/1875 [==============================] - 7s 4ms/step - loss: 0.1454 - accuracy: 0.9464 - val_loss: 0.4084 - val_accuracy: 0.8852\n",
      "Epoch 76/100\n",
      "1875/1875 [==============================] - 8s 4ms/step - loss: 0.1464 - accuracy: 0.9453 - val_loss: 0.4370 - val_accuracy: 0.8860\n",
      "Epoch 77/100\n",
      "1875/1875 [==============================] - 7s 4ms/step - loss: 0.1450 - accuracy: 0.9459 - val_loss: 0.3968 - val_accuracy: 0.8855\n",
      "Epoch 78/100\n",
      "1875/1875 [==============================] - 7s 4ms/step - loss: 0.1422 - accuracy: 0.9471 - val_loss: 0.4292 - val_accuracy: 0.8836\n",
      "Epoch 79/100\n",
      "1875/1875 [==============================] - 7s 4ms/step - loss: 0.1423 - accuracy: 0.9474 - val_loss: 0.4203 - val_accuracy: 0.8835\n",
      "Epoch 80/100\n",
      "1875/1875 [==============================] - 8s 4ms/step - loss: 0.1426 - accuracy: 0.9456 - val_loss: 0.4305 - val_accuracy: 0.8856\n",
      "Epoch 81/100\n",
      "1875/1875 [==============================] - 7s 4ms/step - loss: 0.1426 - accuracy: 0.9469 - val_loss: 0.4271 - val_accuracy: 0.8856\n",
      "Epoch 82/100\n",
      "1875/1875 [==============================] - 7s 4ms/step - loss: 0.1365 - accuracy: 0.9483 - val_loss: 0.4153 - val_accuracy: 0.8859\n",
      "Epoch 83/100\n",
      "1875/1875 [==============================] - 7s 4ms/step - loss: 0.1404 - accuracy: 0.9480 - val_loss: 0.4515 - val_accuracy: 0.8855\n",
      "Epoch 84/100\n",
      "1875/1875 [==============================] - 7s 4ms/step - loss: 0.1354 - accuracy: 0.9492 - val_loss: 0.4326 - val_accuracy: 0.8861\n",
      "Epoch 85/100\n",
      "1875/1875 [==============================] - 7s 4ms/step - loss: 0.1350 - accuracy: 0.9494 - val_loss: 0.4183 - val_accuracy: 0.8824\n",
      "Epoch 86/100\n",
      "1875/1875 [==============================] - 7s 4ms/step - loss: 0.1368 - accuracy: 0.9491 - val_loss: 0.4064 - val_accuracy: 0.8829\n",
      "Epoch 87/100\n",
      "1875/1875 [==============================] - 7s 4ms/step - loss: 0.1373 - accuracy: 0.9487 - val_loss: 0.4164 - val_accuracy: 0.8817\n",
      "Epoch 88/100\n",
      "1875/1875 [==============================] - 8s 4ms/step - loss: 0.1372 - accuracy: 0.9490 - val_loss: 0.3999 - val_accuracy: 0.8833\n",
      "Epoch 89/100\n",
      "1875/1875 [==============================] - 8s 4ms/step - loss: 0.1335 - accuracy: 0.9509 - val_loss: 0.4061 - val_accuracy: 0.8842\n",
      "Epoch 90/100\n",
      "1875/1875 [==============================] - 8s 4ms/step - loss: 0.1324 - accuracy: 0.9502 - val_loss: 0.4657 - val_accuracy: 0.8844\n",
      "Epoch 91/100\n",
      "1875/1875 [==============================] - 7s 4ms/step - loss: 0.1319 - accuracy: 0.9513 - val_loss: 0.4156 - val_accuracy: 0.8864\n",
      "Epoch 92/100\n",
      "1875/1875 [==============================] - 7s 4ms/step - loss: 0.1331 - accuracy: 0.9502 - val_loss: 0.4137 - val_accuracy: 0.8856\n",
      "Epoch 93/100\n",
      "1875/1875 [==============================] - 7s 4ms/step - loss: 0.1278 - accuracy: 0.9534 - val_loss: 0.4856 - val_accuracy: 0.8817\n",
      "Epoch 94/100\n",
      "1875/1875 [==============================] - 7s 4ms/step - loss: 0.1300 - accuracy: 0.9521 - val_loss: 0.4186 - val_accuracy: 0.8852\n",
      "Epoch 95/100\n",
      "1875/1875 [==============================] - 7s 4ms/step - loss: 0.1303 - accuracy: 0.9519 - val_loss: 0.4421 - val_accuracy: 0.8846\n",
      "Epoch 96/100\n",
      "1875/1875 [==============================] - 7s 4ms/step - loss: 0.1278 - accuracy: 0.9530 - val_loss: 0.4389 - val_accuracy: 0.8867\n",
      "Epoch 97/100\n",
      "1875/1875 [==============================] - 7s 4ms/step - loss: 0.1290 - accuracy: 0.9520 - val_loss: 0.4410 - val_accuracy: 0.8839\n",
      "Epoch 98/100\n",
      "1875/1875 [==============================] - 7s 4ms/step - loss: 0.1274 - accuracy: 0.9520 - val_loss: 0.4710 - val_accuracy: 0.8828\n",
      "Epoch 99/100\n",
      "1875/1875 [==============================] - 7s 4ms/step - loss: 0.1250 - accuracy: 0.9535 - val_loss: 0.4931 - val_accuracy: 0.8858\n",
      "Epoch 100/100\n",
      "1875/1875 [==============================] - 8s 4ms/step - loss: 0.1226 - accuracy: 0.9542 - val_loss: 0.4578 - val_accuracy: 0.8862\n"
     ]
    },
    {
     "data": {
      "text/plain": [
       "<keras.callbacks.History at 0x7f9882369950>"
      ]
     },
     "execution_count": 11,
     "metadata": {},
     "output_type": "execute_result"
    }
   ],
   "source": [
    "model.fit(trainX,trainY, \n",
    "          validation_data=(testX,testY), \n",
    "          epochs=100,\n",
    "         batch_size=32)"
   ]
  },
  {
   "cell_type": "code",
   "execution_count": null,
   "metadata": {
    "id": "xqv3H4THgpxK"
   },
   "outputs": [],
   "source": []
  }
 ],
 "metadata": {
  "colab": {
   "collapsed_sections": [],
   "name": "Fashion mnist(DP)(Karan).ipynb",
   "provenance": []
  },
  "kernelspec": {
   "display_name": "Python 3 (ipykernel)",
   "language": "python",
   "name": "python3"
  },
  "language_info": {
   "codemirror_mode": {
    "name": "ipython",
    "version": 3
   },
   "file_extension": ".py",
   "mimetype": "text/x-python",
   "name": "python",
   "nbconvert_exporter": "python",
   "pygments_lexer": "ipython3",
   "version": "3.9.5"
  }
 },
 "nbformat": 4,
 "nbformat_minor": 1
}
