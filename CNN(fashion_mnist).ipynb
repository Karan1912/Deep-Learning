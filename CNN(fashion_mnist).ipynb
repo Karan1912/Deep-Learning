{
 "cells": [
  {
   "cell_type": "code",
   "execution_count": 10,
   "metadata": {
    "id": "BZb282LFSz3_"
   },
   "outputs": [],
   "source": [
    "import tensorflow as tf\n",
    "import matplotlib.pyplot as plt"
   ]
  },
  {
   "cell_type": "code",
   "execution_count": 11,
   "metadata": {
    "id": "Wv__sJEVXuCe"
   },
   "outputs": [],
   "source": [
    "(trainX,trainY),(testX,testY)= tf.keras.datasets.fashion_mnist.load_data()"
   ]
  },
  {
   "cell_type": "code",
   "execution_count": 12,
   "metadata": {
    "id": "qRP2UeE4XyUk"
   },
   "outputs": [],
   "source": [
    "trainY = tf.keras.utils.to_categorical(trainY,num_classes=10)\n",
    "testY = tf.keras.utils.to_categorical(testY,num_classes=10)"
   ]
  },
  {
   "cell_type": "code",
   "execution_count": 13,
   "metadata": {
    "id": "OP3OrX8bX2MD"
   },
   "outputs": [],
   "source": [
    "model = tf.keras.models.Sequential()\n",
    "model.add(tf.keras.layers.Reshape((28,28,1),input_shape=(28,28,)))\n",
    "model.add(tf.keras.layers.BatchNormalization())"
   ]
  },
  {
   "cell_type": "code",
   "execution_count": 14,
   "metadata": {
    "id": "HtNHSxBEX9vD"
   },
   "outputs": [],
   "source": [
    "model.add(tf.keras.layers.Conv2D(32,kernel_size=(3,3),activation='relu'))\n",
    "model.add(tf.keras.layers.Conv2D(64, kernel_size=(3,3), activation='relu'))"
   ]
  },
  {
   "cell_type": "code",
   "execution_count": 15,
   "metadata": {
    "id": "Q6MXX2X7ZeWU"
   },
   "outputs": [],
   "source": [
    "model.add(tf.keras.layers.Flatten())\n",
    "model.add(tf.keras.layers.Dense(10, activation='softmax'))"
   ]
  },
  {
   "cell_type": "code",
   "execution_count": 16,
   "metadata": {
    "id": "x9HsI7yiZigT"
   },
   "outputs": [],
   "source": [
    "model.compile(optimizer='adam', \n",
    "              loss='categorical_crossentropy', metrics=['accuracy'])"
   ]
  },
  {
   "cell_type": "code",
   "execution_count": 17,
   "metadata": {
    "colab": {
     "base_uri": "https://localhost:8080/"
    },
    "id": "fJ58BEDqZlik",
    "outputId": "3c0c8eb8-333d-4033-8713-c9e180e37f5c"
   },
   "outputs": [
    {
     "name": "stdout",
     "output_type": "stream",
     "text": [
      "Epoch 1/10\n",
      "1875/1875 [==============================] - 134s 71ms/step - loss: 0.3560 - accuracy: 0.8745 - val_loss: 0.2973 - val_accuracy: 0.8919\n",
      "Epoch 2/10\n",
      "1875/1875 [==============================] - 133s 71ms/step - loss: 0.2203 - accuracy: 0.9208 - val_loss: 0.2450 - val_accuracy: 0.9126\n",
      "Epoch 3/10\n",
      "1875/1875 [==============================] - 133s 71ms/step - loss: 0.1616 - accuracy: 0.9412 - val_loss: 0.2844 - val_accuracy: 0.9045\n",
      "Epoch 4/10\n",
      "1875/1875 [==============================] - 133s 71ms/step - loss: 0.1174 - accuracy: 0.9574 - val_loss: 0.2728 - val_accuracy: 0.9151\n",
      "Epoch 5/10\n",
      "1875/1875 [==============================] - 133s 71ms/step - loss: 0.0871 - accuracy: 0.9685 - val_loss: 0.3269 - val_accuracy: 0.9086\n",
      "Epoch 6/10\n",
      "1875/1875 [==============================] - 134s 71ms/step - loss: 0.0636 - accuracy: 0.9773 - val_loss: 0.3936 - val_accuracy: 0.9073\n",
      "Epoch 7/10\n",
      "1875/1875 [==============================] - 133s 71ms/step - loss: 0.0510 - accuracy: 0.9807 - val_loss: 0.4215 - val_accuracy: 0.9065\n",
      "Epoch 8/10\n",
      "1875/1875 [==============================] - 134s 71ms/step - loss: 0.0421 - accuracy: 0.9848 - val_loss: 0.4676 - val_accuracy: 0.9105\n",
      "Epoch 9/10\n",
      "1875/1875 [==============================] - 134s 72ms/step - loss: 0.0341 - accuracy: 0.9879 - val_loss: 0.5118 - val_accuracy: 0.9059\n",
      "Epoch 10/10\n",
      "1875/1875 [==============================] - 134s 71ms/step - loss: 0.0287 - accuracy: 0.9898 - val_loss: 0.5435 - val_accuracy: 0.9067\n"
     ]
    },
    {
     "data": {
      "text/plain": [
       "<keras.callbacks.History at 0x7f03acbd9390>"
      ]
     },
     "execution_count": 17,
     "metadata": {},
     "output_type": "execute_result"
    }
   ],
   "source": [
    "model.fit(trainX,trainY,          \n",
    "          validation_data=(testX,testY),\n",
    "          epochs=10,\n",
    "          batch_size=32)"
   ]
  },
  {
   "cell_type": "code",
   "execution_count": null,
   "metadata": {
    "id": "2ARDl4BbZqx1"
   },
   "outputs": [],
   "source": []
  }
 ],
 "metadata": {
  "colab": {
   "name": "CNN(fashion_mnist)(Karan_Salunkhe)",
   "provenance": []
  },
  "kernelspec": {
   "display_name": "Python 3 (ipykernel)",
   "language": "python",
   "name": "python3"
  },
  "language_info": {
   "codemirror_mode": {
    "name": "ipython",
    "version": 3
   },
   "file_extension": ".py",
   "mimetype": "text/x-python",
   "name": "python",
   "nbconvert_exporter": "python",
   "pygments_lexer": "ipython3",
   "version": "3.9.5"
  }
 },
 "nbformat": 4,
 "nbformat_minor": 1
}
