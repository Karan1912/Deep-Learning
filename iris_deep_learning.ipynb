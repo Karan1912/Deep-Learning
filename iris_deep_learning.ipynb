{
 "cells": [
  {
   "cell_type": "code",
   "execution_count": 9,
   "metadata": {
    "id": "r4pSuPli8xvt"
   },
   "outputs": [],
   "source": [
    "import tensorflow as tf\n",
    "from tensorflow import keras\n",
    "import matplotlib.pyplot as plt\n",
    "from sklearn import datasets\n",
    "import pandas as pd\n"
   ]
  },
  {
   "cell_type": "code",
   "execution_count": 10,
   "metadata": {
    "colab": {
     "base_uri": "https://localhost:8080/",
     "height": 203
    },
    "id": "PU-gK1lc83nT",
    "outputId": "df9d141a-9522-4481-c77a-9824791d5678"
   },
   "outputs": [
    {
     "data": {
      "text/html": [
       "<div>\n",
       "<style scoped>\n",
       "    .dataframe tbody tr th:only-of-type {\n",
       "        vertical-align: middle;\n",
       "    }\n",
       "\n",
       "    .dataframe tbody tr th {\n",
       "        vertical-align: top;\n",
       "    }\n",
       "\n",
       "    .dataframe thead th {\n",
       "        text-align: right;\n",
       "    }\n",
       "</style>\n",
       "<table border=\"1\" class=\"dataframe\">\n",
       "  <thead>\n",
       "    <tr style=\"text-align: right;\">\n",
       "      <th></th>\n",
       "      <th>ID</th>\n",
       "      <th>Sepal.Length</th>\n",
       "      <th>Sepal.Width</th>\n",
       "      <th>Petal.Length</th>\n",
       "      <th>Petal.Width</th>\n",
       "      <th>Species</th>\n",
       "    </tr>\n",
       "  </thead>\n",
       "  <tbody>\n",
       "    <tr>\n",
       "      <th>0</th>\n",
       "      <td>1</td>\n",
       "      <td>5.1</td>\n",
       "      <td>3.5</td>\n",
       "      <td>1.4</td>\n",
       "      <td>0.2</td>\n",
       "      <td>setosa</td>\n",
       "    </tr>\n",
       "    <tr>\n",
       "      <th>1</th>\n",
       "      <td>2</td>\n",
       "      <td>4.9</td>\n",
       "      <td>3.0</td>\n",
       "      <td>1.4</td>\n",
       "      <td>0.2</td>\n",
       "      <td>setosa</td>\n",
       "    </tr>\n",
       "    <tr>\n",
       "      <th>2</th>\n",
       "      <td>3</td>\n",
       "      <td>4.7</td>\n",
       "      <td>3.2</td>\n",
       "      <td>1.3</td>\n",
       "      <td>0.2</td>\n",
       "      <td>setosa</td>\n",
       "    </tr>\n",
       "    <tr>\n",
       "      <th>3</th>\n",
       "      <td>4</td>\n",
       "      <td>4.6</td>\n",
       "      <td>3.1</td>\n",
       "      <td>1.5</td>\n",
       "      <td>0.2</td>\n",
       "      <td>setosa</td>\n",
       "    </tr>\n",
       "    <tr>\n",
       "      <th>4</th>\n",
       "      <td>5</td>\n",
       "      <td>5.0</td>\n",
       "      <td>3.6</td>\n",
       "      <td>1.4</td>\n",
       "      <td>0.2</td>\n",
       "      <td>setosa</td>\n",
       "    </tr>\n",
       "  </tbody>\n",
       "</table>\n",
       "</div>"
      ],
      "text/plain": [
       "   ID  Sepal.Length  Sepal.Width  Petal.Length  Petal.Width Species\n",
       "0   1           5.1          3.5           1.4          0.2  setosa\n",
       "1   2           4.9          3.0           1.4          0.2  setosa\n",
       "2   3           4.7          3.2           1.3          0.2  setosa\n",
       "3   4           4.6          3.1           1.5          0.2  setosa\n",
       "4   5           5.0          3.6           1.4          0.2  setosa"
      ]
     },
     "execution_count": 10,
     "metadata": {},
     "output_type": "execute_result"
    }
   ],
   "source": [
    "data = pd.read_csv('Iris.csv')\n",
    "X=data.iloc[:,1:5]\n",
    "y=data['Species']\n",
    "data.head()\n"
   ]
  },
  {
   "cell_type": "code",
   "execution_count": 11,
   "metadata": {
    "id": "T6eXJIcZOsVy"
   },
   "outputs": [],
   "source": [
    "from sklearn.preprocessing import LabelEncoder\n",
    "encoder=LabelEncoder()\n"
   ]
  },
  {
   "cell_type": "code",
   "execution_count": 12,
   "metadata": {
    "colab": {
     "base_uri": "https://localhost:8080/"
    },
    "id": "xJ8Gy3gQPQ9k",
    "outputId": "48504054-6e2f-4c3d-ec2d-7c6e7b05a971"
   },
   "outputs": [
    {
     "data": {
      "text/plain": [
       "array([[1, 0, 0],\n",
       "       [1, 0, 0],\n",
       "       [1, 0, 0],\n",
       "       [1, 0, 0],\n",
       "       [1, 0, 0],\n",
       "       [1, 0, 0],\n",
       "       [1, 0, 0],\n",
       "       [1, 0, 0],\n",
       "       [1, 0, 0],\n",
       "       [1, 0, 0],\n",
       "       [1, 0, 0],\n",
       "       [1, 0, 0],\n",
       "       [1, 0, 0],\n",
       "       [1, 0, 0],\n",
       "       [1, 0, 0],\n",
       "       [1, 0, 0],\n",
       "       [1, 0, 0],\n",
       "       [1, 0, 0],\n",
       "       [1, 0, 0],\n",
       "       [1, 0, 0],\n",
       "       [1, 0, 0],\n",
       "       [1, 0, 0],\n",
       "       [1, 0, 0],\n",
       "       [1, 0, 0],\n",
       "       [1, 0, 0],\n",
       "       [1, 0, 0],\n",
       "       [1, 0, 0],\n",
       "       [1, 0, 0],\n",
       "       [1, 0, 0],\n",
       "       [1, 0, 0],\n",
       "       [1, 0, 0],\n",
       "       [1, 0, 0],\n",
       "       [1, 0, 0],\n",
       "       [1, 0, 0],\n",
       "       [1, 0, 0],\n",
       "       [1, 0, 0],\n",
       "       [1, 0, 0],\n",
       "       [1, 0, 0],\n",
       "       [1, 0, 0],\n",
       "       [1, 0, 0],\n",
       "       [1, 0, 0],\n",
       "       [1, 0, 0],\n",
       "       [1, 0, 0],\n",
       "       [1, 0, 0],\n",
       "       [1, 0, 0],\n",
       "       [1, 0, 0],\n",
       "       [1, 0, 0],\n",
       "       [1, 0, 0],\n",
       "       [1, 0, 0],\n",
       "       [1, 0, 0],\n",
       "       [0, 1, 0],\n",
       "       [0, 1, 0],\n",
       "       [0, 1, 0],\n",
       "       [0, 1, 0],\n",
       "       [0, 1, 0],\n",
       "       [0, 1, 0],\n",
       "       [0, 1, 0],\n",
       "       [0, 1, 0],\n",
       "       [0, 1, 0],\n",
       "       [0, 1, 0],\n",
       "       [0, 1, 0],\n",
       "       [0, 1, 0],\n",
       "       [0, 1, 0],\n",
       "       [0, 1, 0],\n",
       "       [0, 1, 0],\n",
       "       [0, 1, 0],\n",
       "       [0, 1, 0],\n",
       "       [0, 1, 0],\n",
       "       [0, 1, 0],\n",
       "       [0, 1, 0],\n",
       "       [0, 1, 0],\n",
       "       [0, 1, 0],\n",
       "       [0, 1, 0],\n",
       "       [0, 1, 0],\n",
       "       [0, 1, 0],\n",
       "       [0, 1, 0],\n",
       "       [0, 1, 0],\n",
       "       [0, 1, 0],\n",
       "       [0, 1, 0],\n",
       "       [0, 1, 0],\n",
       "       [0, 1, 0],\n",
       "       [0, 1, 0],\n",
       "       [0, 1, 0],\n",
       "       [0, 1, 0],\n",
       "       [0, 1, 0],\n",
       "       [0, 1, 0],\n",
       "       [0, 1, 0],\n",
       "       [0, 1, 0],\n",
       "       [0, 1, 0],\n",
       "       [0, 1, 0],\n",
       "       [0, 1, 0],\n",
       "       [0, 1, 0],\n",
       "       [0, 1, 0],\n",
       "       [0, 1, 0],\n",
       "       [0, 1, 0],\n",
       "       [0, 1, 0],\n",
       "       [0, 1, 0],\n",
       "       [0, 1, 0],\n",
       "       [0, 1, 0],\n",
       "       [0, 1, 0],\n",
       "       [0, 0, 1],\n",
       "       [0, 0, 1],\n",
       "       [0, 0, 1],\n",
       "       [0, 0, 1],\n",
       "       [0, 0, 1],\n",
       "       [0, 0, 1],\n",
       "       [0, 0, 1],\n",
       "       [0, 0, 1],\n",
       "       [0, 0, 1],\n",
       "       [0, 0, 1],\n",
       "       [0, 0, 1],\n",
       "       [0, 0, 1],\n",
       "       [0, 0, 1],\n",
       "       [0, 0, 1],\n",
       "       [0, 0, 1],\n",
       "       [0, 0, 1],\n",
       "       [0, 0, 1],\n",
       "       [0, 0, 1],\n",
       "       [0, 0, 1],\n",
       "       [0, 0, 1],\n",
       "       [0, 0, 1],\n",
       "       [0, 0, 1],\n",
       "       [0, 0, 1],\n",
       "       [0, 0, 1],\n",
       "       [0, 0, 1],\n",
       "       [0, 0, 1],\n",
       "       [0, 0, 1],\n",
       "       [0, 0, 1],\n",
       "       [0, 0, 1],\n",
       "       [0, 0, 1],\n",
       "       [0, 0, 1],\n",
       "       [0, 0, 1],\n",
       "       [0, 0, 1],\n",
       "       [0, 0, 1],\n",
       "       [0, 0, 1],\n",
       "       [0, 0, 1],\n",
       "       [0, 0, 1],\n",
       "       [0, 0, 1],\n",
       "       [0, 0, 1],\n",
       "       [0, 0, 1],\n",
       "       [0, 0, 1],\n",
       "       [0, 0, 1],\n",
       "       [0, 0, 1],\n",
       "       [0, 0, 1],\n",
       "       [0, 0, 1],\n",
       "       [0, 0, 1],\n",
       "       [0, 0, 1],\n",
       "       [0, 0, 1],\n",
       "       [0, 0, 1],\n",
       "       [0, 0, 1]], dtype=uint8)"
      ]
     },
     "execution_count": 12,
     "metadata": {},
     "output_type": "execute_result"
    }
   ],
   "source": [
    "y1=encoder.fit_transform(y)\n",
    "y=pd.get_dummies(y1).values\n",
    "y\n"
   ]
  },
  {
   "cell_type": "code",
   "execution_count": 13,
   "metadata": {
    "colab": {
     "base_uri": "https://localhost:8080/"
    },
    "id": "LN2iKvYRftqv",
    "outputId": "6e4126f4-cb26-4fa8-f1fd-74f354240b53"
   },
   "outputs": [
    {
     "name": "stdout",
     "output_type": "stream",
     "text": [
      "(150, 4)\n",
      "(150, 3)\n"
     ]
    }
   ],
   "source": [
    "print(X.shape)\n",
    "print(y.shape)"
   ]
  },
  {
   "cell_type": "code",
   "execution_count": 14,
   "metadata": {
    "id": "xU8v2x629Gc9"
   },
   "outputs": [],
   "source": [
    "from sklearn.model_selection import train_test_split\n",
    "X_train, X_test, y_train, y_test = train_test_split(X,y, test_size=0.3,random_state=42)\n"
   ]
  },
  {
   "cell_type": "code",
   "execution_count": 15,
   "metadata": {
    "colab": {
     "base_uri": "https://localhost:8080/"
    },
    "id": "v1T0QJmBdR5a",
    "outputId": "58611d48-da6a-4301-9e8c-10587232dd06"
   },
   "outputs": [
    {
     "data": {
      "text/plain": [
       "(105, 4)"
      ]
     },
     "execution_count": 15,
     "metadata": {},
     "output_type": "execute_result"
    }
   ],
   "source": [
    "X_train.shape"
   ]
  },
  {
   "cell_type": "code",
   "execution_count": 33,
   "metadata": {
    "id": "y7_fYSFD-0lx"
   },
   "outputs": [],
   "source": [
    "#Initialize Sequential model\n",
    "model = tf.keras.models.Sequential()\n",
    "model.add(tf.keras.layers.Reshape((4,),input_shape=(4,)))\n",
    "#Normalize the data\n",
    "model.add(tf.keras.layers.BatchNormalization())"
   ]
  },
  {
   "cell_type": "code",
   "execution_count": 17,
   "metadata": {
    "id": "XYAY4bGZ-_Qn"
   },
   "outputs": [],
   "source": [
    "# model.add(tf.keras.layers.Dense(500, activation='relu'))\n",
    "# model.add(tf.keras.layers.BatchNormalization())"
   ]
  },
  {
   "cell_type": "code",
   "execution_count": 18,
   "metadata": {
    "id": "cHvFxxCr_Cfw"
   },
   "outputs": [],
   "source": [
    "#Add 1st hidden layer\n",
    "# model.add(tf.keras.layers.Dense(200, activation='relu'))\n",
    "# model.add(tf.keras.layers.BatchNormalization())"
   ]
  },
  {
   "cell_type": "code",
   "execution_count": 19,
   "metadata": {
    "id": "TkAPIUVU_Gm-"
   },
   "outputs": [],
   "source": [
    "#Add 2nd hidden layer\n",
    "# model.add(tf.keras.layers.Dense(100, activation='relu'))\n",
    "# model.add(tf.keras.layers.BatchNormalization())"
   ]
  },
  {
   "cell_type": "code",
   "execution_count": 20,
   "metadata": {
    "id": "1AumRBC3_Ja0"
   },
   "outputs": [],
   "source": [
    "#Add 3rd hidden layer\n",
    "# model.add(tf.keras.layers.Dense(60, activation='relu'))\n",
    "# model.add(tf.keras.layers.BatchNormalization())"
   ]
  },
  {
   "cell_type": "code",
   "execution_count": 21,
   "metadata": {
    "id": "ChBwnDgL_LOM"
   },
   "outputs": [],
   "source": [
    "#Add 4th hidden layer\n",
    "# model.add(tf.keras.layers.Dense(30, activation='relu'))\n",
    "# model.add(tf.keras.layers.BatchNormalization())"
   ]
  },
  {
   "cell_type": "code",
   "execution_count": 34,
   "metadata": {
    "id": "SHY7VWQI_NED"
   },
   "outputs": [],
   "source": [
    "#Add OUTPUT layer\n",
    "model.add(tf.keras.layers.Dense(3, activation='softmax'))"
   ]
  },
  {
   "cell_type": "code",
   "execution_count": 36,
   "metadata": {
    "colab": {
     "base_uri": "https://localhost:8080/"
    },
    "id": "EP_ndCss_RYc",
    "outputId": "9f87c43b-e7e3-435e-ba6c-d07304eb066a"
   },
   "outputs": [
    {
     "name": "stderr",
     "output_type": "stream",
     "text": [
      "c:\\users\\djkar\\appdata\\local\\programs\\python\\python39\\lib\\site-packages\\keras\\optimizer_v2\\optimizer_v2.py:355: UserWarning: The `lr` argument is deprecated, use `learning_rate` instead.\n",
      "  warnings.warn(\n"
     ]
    }
   ],
   "source": [
    "sgd_optimizer = tf.keras.optimizers.SGD(lr=0.01)\n",
    "\n",
    "#Compile the model\n",
    "model.compile(optimizer=sgd_optimizer, loss='categorical_crossentropy', metrics=['accuracy'])"
   ]
  },
  {
   "cell_type": "code",
   "execution_count": 37,
   "metadata": {
    "colab": {
     "base_uri": "https://localhost:8080/"
    },
    "id": "MD2vkKVYStZC",
    "outputId": "cd4c9443-32cd-45d9-c7dc-cf0c48cf0761"
   },
   "outputs": [
    {
     "name": "stdout",
     "output_type": "stream",
     "text": [
      "Model: \"sequential_3\"\n",
      "_________________________________________________________________\n",
      "Layer (type)                 Output Shape              Param #   \n",
      "=================================================================\n",
      "reshape_3 (Reshape)          (None, 4)                 0         \n",
      "_________________________________________________________________\n",
      "batch_normalization_3 (Batch (None, 4)                 16        \n",
      "_________________________________________________________________\n",
      "dense_2 (Dense)              (None, 3)                 15        \n",
      "=================================================================\n",
      "Total params: 31\n",
      "Trainable params: 23\n",
      "Non-trainable params: 8\n",
      "_________________________________________________________________\n"
     ]
    }
   ],
   "source": [
    "X_train.shape\n",
    "model.summary()"
   ]
  },
  {
   "cell_type": "code",
   "execution_count": 38,
   "metadata": {
    "colab": {
     "base_uri": "https://localhost:8080/"
    },
    "id": "oLdH8LRi_Zqz",
    "outputId": "7b0d25ad-580a-4d09-f9ad-67679e4b208f"
   },
   "outputs": [
    {
     "name": "stdout",
     "output_type": "stream",
     "text": [
      "Epoch 1/100\n",
      "4/4 [==============================] - 1s 58ms/step - loss: 2.3202 - accuracy: 0.1333 - val_loss: 3.9749 - val_accuracy: 0.2889\n",
      "Epoch 2/100\n",
      "4/4 [==============================] - 0s 13ms/step - loss: 2.2005 - accuracy: 0.1429 - val_loss: 3.7299 - val_accuracy: 0.2889\n",
      "Epoch 3/100\n",
      "4/4 [==============================] - 0s 14ms/step - loss: 2.0737 - accuracy: 0.1524 - val_loss: 3.5089 - val_accuracy: 0.2889\n",
      "Epoch 4/100\n",
      "4/4 [==============================] - 0s 12ms/step - loss: 1.9703 - accuracy: 0.1619 - val_loss: 3.3190 - val_accuracy: 0.2889\n",
      "Epoch 5/100\n",
      "4/4 [==============================] - 0s 14ms/step - loss: 1.8441 - accuracy: 0.1619 - val_loss: 3.1451 - val_accuracy: 0.2889\n",
      "Epoch 6/100\n",
      "4/4 [==============================] - 0s 10ms/step - loss: 1.7537 - accuracy: 0.1714 - val_loss: 3.0032 - val_accuracy: 0.2889\n",
      "Epoch 7/100\n",
      "4/4 [==============================] - 0s 13ms/step - loss: 1.6671 - accuracy: 0.1810 - val_loss: 2.8607 - val_accuracy: 0.2889\n",
      "Epoch 8/100\n",
      "4/4 [==============================] - 0s 15ms/step - loss: 1.5825 - accuracy: 0.1810 - val_loss: 2.7327 - val_accuracy: 0.2889\n",
      "Epoch 9/100\n",
      "4/4 [==============================] - 0s 13ms/step - loss: 1.5123 - accuracy: 0.1905 - val_loss: 2.5985 - val_accuracy: 0.2889\n",
      "Epoch 10/100\n",
      "4/4 [==============================] - 0s 14ms/step - loss: 1.4458 - accuracy: 0.2095 - val_loss: 2.4921 - val_accuracy: 0.2889\n",
      "Epoch 11/100\n",
      "4/4 [==============================] - 0s 13ms/step - loss: 1.3864 - accuracy: 0.2000 - val_loss: 2.3951 - val_accuracy: 0.2889\n",
      "Epoch 12/100\n",
      "4/4 [==============================] - 0s 16ms/step - loss: 1.3272 - accuracy: 0.2095 - val_loss: 2.2975 - val_accuracy: 0.2889\n",
      "Epoch 13/100\n",
      "4/4 [==============================] - 0s 12ms/step - loss: 1.2774 - accuracy: 0.2286 - val_loss: 2.2121 - val_accuracy: 0.2889\n",
      "Epoch 14/100\n",
      "4/4 [==============================] - 0s 15ms/step - loss: 1.2475 - accuracy: 0.2190 - val_loss: 2.1262 - val_accuracy: 0.2889\n",
      "Epoch 15/100\n",
      "4/4 [==============================] - 0s 10ms/step - loss: 1.1990 - accuracy: 0.2571 - val_loss: 2.0545 - val_accuracy: 0.2889\n",
      "Epoch 16/100\n",
      "4/4 [==============================] - 0s 15ms/step - loss: 1.1602 - accuracy: 0.2667 - val_loss: 1.9883 - val_accuracy: 0.2889\n",
      "Epoch 17/100\n",
      "4/4 [==============================] - 0s 11ms/step - loss: 1.1220 - accuracy: 0.2952 - val_loss: 1.9259 - val_accuracy: 0.2889\n",
      "Epoch 18/100\n",
      "4/4 [==============================] - 0s 14ms/step - loss: 1.0913 - accuracy: 0.3429 - val_loss: 1.8657 - val_accuracy: 0.2889\n",
      "Epoch 19/100\n",
      "4/4 [==============================] - 0s 15ms/step - loss: 1.0692 - accuracy: 0.3333 - val_loss: 1.8118 - val_accuracy: 0.2889\n",
      "Epoch 20/100\n",
      "4/4 [==============================] - 0s 11ms/step - loss: 1.0341 - accuracy: 0.3905 - val_loss: 1.7579 - val_accuracy: 0.2889\n",
      "Epoch 21/100\n",
      "4/4 [==============================] - 0s 14ms/step - loss: 1.0063 - accuracy: 0.4952 - val_loss: 1.7111 - val_accuracy: 0.2667\n",
      "Epoch 22/100\n",
      "4/4 [==============================] - 0s 15ms/step - loss: 0.9831 - accuracy: 0.5143 - val_loss: 1.6606 - val_accuracy: 0.2444\n",
      "Epoch 23/100\n",
      "4/4 [==============================] - 0s 13ms/step - loss: 0.9695 - accuracy: 0.4857 - val_loss: 1.6178 - val_accuracy: 0.2000\n",
      "Epoch 24/100\n",
      "4/4 [==============================] - 0s 15ms/step - loss: 0.9497 - accuracy: 0.4952 - val_loss: 1.5750 - val_accuracy: 0.2222\n",
      "Epoch 25/100\n",
      "4/4 [==============================] - 0s 17ms/step - loss: 0.9305 - accuracy: 0.5238 - val_loss: 1.5319 - val_accuracy: 0.2000\n",
      "Epoch 26/100\n",
      "4/4 [==============================] - 0s 12ms/step - loss: 0.9133 - accuracy: 0.5619 - val_loss: 1.4864 - val_accuracy: 0.2222\n",
      "Epoch 27/100\n",
      "4/4 [==============================] - 0s 14ms/step - loss: 0.8846 - accuracy: 0.6095 - val_loss: 1.4463 - val_accuracy: 0.2444\n",
      "Epoch 28/100\n",
      "4/4 [==============================] - 0s 16ms/step - loss: 0.8656 - accuracy: 0.6000 - val_loss: 1.4042 - val_accuracy: 0.2444\n",
      "Epoch 29/100\n",
      "4/4 [==============================] - 0s 18ms/step - loss: 0.8487 - accuracy: 0.6190 - val_loss: 1.3657 - val_accuracy: 0.2444\n",
      "Epoch 30/100\n",
      "4/4 [==============================] - 0s 16ms/step - loss: 0.8350 - accuracy: 0.5810 - val_loss: 1.3318 - val_accuracy: 0.2667\n",
      "Epoch 31/100\n",
      "4/4 [==============================] - 0s 14ms/step - loss: 0.8366 - accuracy: 0.6095 - val_loss: 1.2969 - val_accuracy: 0.2667\n",
      "Epoch 32/100\n",
      "4/4 [==============================] - 0s 11ms/step - loss: 0.8164 - accuracy: 0.6286 - val_loss: 1.2655 - val_accuracy: 0.3111\n",
      "Epoch 33/100\n",
      "4/4 [==============================] - 0s 16ms/step - loss: 0.8025 - accuracy: 0.6381 - val_loss: 1.2346 - val_accuracy: 0.3111\n",
      "Epoch 34/100\n",
      "4/4 [==============================] - 0s 20ms/step - loss: 0.8064 - accuracy: 0.6476 - val_loss: 1.2025 - val_accuracy: 0.3111\n",
      "Epoch 35/100\n",
      "4/4 [==============================] - 0s 20ms/step - loss: 0.7797 - accuracy: 0.6667 - val_loss: 1.1706 - val_accuracy: 0.3111\n",
      "Epoch 36/100\n",
      "4/4 [==============================] - 0s 19ms/step - loss: 0.7748 - accuracy: 0.6857 - val_loss: 1.1404 - val_accuracy: 0.3111\n",
      "Epoch 37/100\n",
      "4/4 [==============================] - 0s 18ms/step - loss: 0.7637 - accuracy: 0.6857 - val_loss: 1.1110 - val_accuracy: 0.3333\n",
      "Epoch 38/100\n",
      "4/4 [==============================] - 0s 18ms/step - loss: 0.7474 - accuracy: 0.7048 - val_loss: 1.0819 - val_accuracy: 0.3333\n",
      "Epoch 39/100\n",
      "4/4 [==============================] - 0s 17ms/step - loss: 0.7421 - accuracy: 0.7048 - val_loss: 1.0549 - val_accuracy: 0.3556\n",
      "Epoch 40/100\n",
      "4/4 [==============================] - 0s 17ms/step - loss: 0.7225 - accuracy: 0.7238 - val_loss: 1.0286 - val_accuracy: 0.3556\n",
      "Epoch 41/100\n",
      "4/4 [==============================] - 0s 16ms/step - loss: 0.7251 - accuracy: 0.7143 - val_loss: 1.0031 - val_accuracy: 0.3333\n",
      "Epoch 42/100\n",
      "4/4 [==============================] - 0s 16ms/step - loss: 0.7188 - accuracy: 0.6952 - val_loss: 0.9805 - val_accuracy: 0.3556\n",
      "Epoch 43/100\n",
      "4/4 [==============================] - 0s 17ms/step - loss: 0.7203 - accuracy: 0.7333 - val_loss: 0.9571 - val_accuracy: 0.4000\n",
      "Epoch 44/100\n",
      "4/4 [==============================] - 0s 12ms/step - loss: 0.7056 - accuracy: 0.7143 - val_loss: 0.9348 - val_accuracy: 0.4000\n",
      "Epoch 45/100\n",
      "4/4 [==============================] - 0s 14ms/step - loss: 0.6831 - accuracy: 0.7524 - val_loss: 0.9129 - val_accuracy: 0.4222\n",
      "Epoch 46/100\n",
      "4/4 [==============================] - 0s 12ms/step - loss: 0.6774 - accuracy: 0.7524 - val_loss: 0.8916 - val_accuracy: 0.4222\n",
      "Epoch 47/100\n",
      "4/4 [==============================] - 0s 15ms/step - loss: 0.6721 - accuracy: 0.7714 - val_loss: 0.8731 - val_accuracy: 0.5333\n",
      "Epoch 48/100\n",
      "4/4 [==============================] - 0s 13ms/step - loss: 0.6861 - accuracy: 0.7810 - val_loss: 0.8562 - val_accuracy: 0.5556\n",
      "Epoch 49/100\n",
      "4/4 [==============================] - 0s 15ms/step - loss: 0.6910 - accuracy: 0.7238 - val_loss: 0.8389 - val_accuracy: 0.5778\n",
      "Epoch 50/100\n",
      "4/4 [==============================] - 0s 12ms/step - loss: 0.7055 - accuracy: 0.7524 - val_loss: 0.8227 - val_accuracy: 0.5778\n",
      "Epoch 51/100\n",
      "4/4 [==============================] - 0s 15ms/step - loss: 0.6486 - accuracy: 0.7714 - val_loss: 0.8052 - val_accuracy: 0.5778\n",
      "Epoch 52/100\n",
      "4/4 [==============================] - 0s 14ms/step - loss: 0.6543 - accuracy: 0.7714 - val_loss: 0.7901 - val_accuracy: 0.5778\n",
      "Epoch 53/100\n",
      "4/4 [==============================] - 0s 13ms/step - loss: 0.6625 - accuracy: 0.7524 - val_loss: 0.7766 - val_accuracy: 0.6222\n",
      "Epoch 54/100\n",
      "4/4 [==============================] - 0s 13ms/step - loss: 0.6401 - accuracy: 0.7905 - val_loss: 0.7619 - val_accuracy: 0.6222\n",
      "Epoch 55/100\n",
      "4/4 [==============================] - 0s 14ms/step - loss: 0.6417 - accuracy: 0.7524 - val_loss: 0.7482 - val_accuracy: 0.6444\n",
      "Epoch 56/100\n",
      "4/4 [==============================] - 0s 14ms/step - loss: 0.6398 - accuracy: 0.7238 - val_loss: 0.7349 - val_accuracy: 0.6444\n",
      "Epoch 57/100\n",
      "4/4 [==============================] - 0s 13ms/step - loss: 0.6314 - accuracy: 0.7429 - val_loss: 0.7230 - val_accuracy: 0.6444\n",
      "Epoch 58/100\n",
      "4/4 [==============================] - 0s 14ms/step - loss: 0.6441 - accuracy: 0.7429 - val_loss: 0.7111 - val_accuracy: 0.6889\n",
      "Epoch 59/100\n"
     ]
    },
    {
     "name": "stdout",
     "output_type": "stream",
     "text": [
      "4/4 [==============================] - 0s 11ms/step - loss: 0.6218 - accuracy: 0.8000 - val_loss: 0.6992 - val_accuracy: 0.6889\n",
      "Epoch 60/100\n",
      "4/4 [==============================] - 0s 11ms/step - loss: 0.6131 - accuracy: 0.7524 - val_loss: 0.6880 - val_accuracy: 0.6889\n",
      "Epoch 61/100\n",
      "4/4 [==============================] - 0s 13ms/step - loss: 0.6243 - accuracy: 0.7429 - val_loss: 0.6782 - val_accuracy: 0.6889\n",
      "Epoch 62/100\n",
      "4/4 [==============================] - 0s 13ms/step - loss: 0.6025 - accuracy: 0.7619 - val_loss: 0.6685 - val_accuracy: 0.6889\n",
      "Epoch 63/100\n",
      "4/4 [==============================] - 0s 11ms/step - loss: 0.6186 - accuracy: 0.7619 - val_loss: 0.6585 - val_accuracy: 0.7111\n",
      "Epoch 64/100\n",
      "4/4 [==============================] - 0s 13ms/step - loss: 0.6358 - accuracy: 0.7429 - val_loss: 0.6488 - val_accuracy: 0.7111\n",
      "Epoch 65/100\n",
      "4/4 [==============================] - 0s 10ms/step - loss: 0.6053 - accuracy: 0.7524 - val_loss: 0.6397 - val_accuracy: 0.7111\n",
      "Epoch 66/100\n",
      "4/4 [==============================] - 0s 10ms/step - loss: 0.5854 - accuracy: 0.7810 - val_loss: 0.6321 - val_accuracy: 0.7333\n",
      "Epoch 67/100\n",
      "4/4 [==============================] - 0s 10ms/step - loss: 0.5763 - accuracy: 0.7524 - val_loss: 0.6244 - val_accuracy: 0.7333\n",
      "Epoch 68/100\n",
      "4/4 [==============================] - 0s 11ms/step - loss: 0.5893 - accuracy: 0.7524 - val_loss: 0.6173 - val_accuracy: 0.7556\n",
      "Epoch 69/100\n",
      "4/4 [==============================] - 0s 13ms/step - loss: 0.5738 - accuracy: 0.7810 - val_loss: 0.6117 - val_accuracy: 0.7556\n",
      "Epoch 70/100\n",
      "4/4 [==============================] - 0s 12ms/step - loss: 0.5781 - accuracy: 0.7429 - val_loss: 0.6057 - val_accuracy: 0.7778\n",
      "Epoch 71/100\n",
      "4/4 [==============================] - 0s 11ms/step - loss: 0.5807 - accuracy: 0.7429 - val_loss: 0.5994 - val_accuracy: 0.7778\n",
      "Epoch 72/100\n",
      "4/4 [==============================] - 0s 12ms/step - loss: 0.5749 - accuracy: 0.7619 - val_loss: 0.5933 - val_accuracy: 0.7778\n",
      "Epoch 73/100\n",
      "4/4 [==============================] - 0s 10ms/step - loss: 0.5610 - accuracy: 0.7714 - val_loss: 0.5875 - val_accuracy: 0.7778\n",
      "Epoch 74/100\n",
      "4/4 [==============================] - 0s 13ms/step - loss: 0.5694 - accuracy: 0.7714 - val_loss: 0.5818 - val_accuracy: 0.7778\n",
      "Epoch 75/100\n",
      "4/4 [==============================] - 0s 13ms/step - loss: 0.5803 - accuracy: 0.7524 - val_loss: 0.5756 - val_accuracy: 0.7778\n",
      "Epoch 76/100\n",
      "4/4 [==============================] - 0s 12ms/step - loss: 0.5560 - accuracy: 0.7810 - val_loss: 0.5704 - val_accuracy: 0.8000\n",
      "Epoch 77/100\n",
      "4/4 [==============================] - 0s 13ms/step - loss: 0.5659 - accuracy: 0.7619 - val_loss: 0.5650 - val_accuracy: 0.8000\n",
      "Epoch 78/100\n",
      "4/4 [==============================] - 0s 13ms/step - loss: 0.5455 - accuracy: 0.7810 - val_loss: 0.5602 - val_accuracy: 0.8000\n",
      "Epoch 79/100\n",
      "4/4 [==============================] - 0s 14ms/step - loss: 0.5600 - accuracy: 0.7810 - val_loss: 0.5556 - val_accuracy: 0.8000\n",
      "Epoch 80/100\n",
      "4/4 [==============================] - 0s 15ms/step - loss: 0.5445 - accuracy: 0.7619 - val_loss: 0.5517 - val_accuracy: 0.8000\n",
      "Epoch 81/100\n",
      "4/4 [==============================] - 0s 12ms/step - loss: 0.5457 - accuracy: 0.8000 - val_loss: 0.5476 - val_accuracy: 0.8000\n",
      "Epoch 82/100\n",
      "4/4 [==============================] - 0s 16ms/step - loss: 0.5613 - accuracy: 0.7619 - val_loss: 0.5436 - val_accuracy: 0.7778\n",
      "Epoch 83/100\n",
      "4/4 [==============================] - 0s 11ms/step - loss: 0.5479 - accuracy: 0.7810 - val_loss: 0.5401 - val_accuracy: 0.7556\n",
      "Epoch 84/100\n",
      "4/4 [==============================] - 0s 10ms/step - loss: 0.5327 - accuracy: 0.7810 - val_loss: 0.5370 - val_accuracy: 0.7778\n",
      "Epoch 85/100\n",
      "4/4 [==============================] - 0s 12ms/step - loss: 0.5712 - accuracy: 0.7619 - val_loss: 0.5332 - val_accuracy: 0.7778\n",
      "Epoch 86/100\n",
      "4/4 [==============================] - 0s 10ms/step - loss: 0.5302 - accuracy: 0.7810 - val_loss: 0.5296 - val_accuracy: 0.7778\n",
      "Epoch 87/100\n",
      "4/4 [==============================] - 0s 10ms/step - loss: 0.5487 - accuracy: 0.7524 - val_loss: 0.5264 - val_accuracy: 0.7778\n",
      "Epoch 88/100\n",
      "4/4 [==============================] - 0s 12ms/step - loss: 0.5309 - accuracy: 0.7714 - val_loss: 0.5233 - val_accuracy: 0.7778\n",
      "Epoch 89/100\n",
      "4/4 [==============================] - 0s 15ms/step - loss: 0.5224 - accuracy: 0.7810 - val_loss: 0.5200 - val_accuracy: 0.7778\n",
      "Epoch 90/100\n",
      "4/4 [==============================] - 0s 13ms/step - loss: 0.5225 - accuracy: 0.7905 - val_loss: 0.5167 - val_accuracy: 0.7778\n",
      "Epoch 91/100\n",
      "4/4 [==============================] - 0s 12ms/step - loss: 0.5282 - accuracy: 0.7810 - val_loss: 0.5139 - val_accuracy: 0.7778\n",
      "Epoch 92/100\n",
      "4/4 [==============================] - 0s 13ms/step - loss: 0.5185 - accuracy: 0.7905 - val_loss: 0.5108 - val_accuracy: 0.7778\n",
      "Epoch 93/100\n",
      "4/4 [==============================] - 0s 11ms/step - loss: 0.5408 - accuracy: 0.7714 - val_loss: 0.5082 - val_accuracy: 0.7778\n",
      "Epoch 94/100\n",
      "4/4 [==============================] - 0s 13ms/step - loss: 0.5819 - accuracy: 0.7429 - val_loss: 0.5056 - val_accuracy: 0.8000\n",
      "Epoch 95/100\n",
      "4/4 [==============================] - 0s 10ms/step - loss: 0.5111 - accuracy: 0.7619 - val_loss: 0.5032 - val_accuracy: 0.8000\n",
      "Epoch 96/100\n",
      "4/4 [==============================] - 0s 10ms/step - loss: 0.5307 - accuracy: 0.7429 - val_loss: 0.5010 - val_accuracy: 0.8000\n",
      "Epoch 97/100\n",
      "4/4 [==============================] - 0s 11ms/step - loss: 0.5560 - accuracy: 0.7333 - val_loss: 0.4981 - val_accuracy: 0.8000\n",
      "Epoch 98/100\n",
      "4/4 [==============================] - 0s 13ms/step - loss: 0.5390 - accuracy: 0.7905 - val_loss: 0.4959 - val_accuracy: 0.8000\n",
      "Epoch 99/100\n",
      "4/4 [==============================] - ETA: 0s - loss: 0.5122 - accuracy: 0.78 - 0s 11ms/step - loss: 0.5226 - accuracy: 0.7714 - val_loss: 0.4937 - val_accuracy: 0.8000\n",
      "Epoch 100/100\n",
      "4/4 [==============================] - 0s 12ms/step - loss: 0.5611 - accuracy: 0.7429 - val_loss: 0.4918 - val_accuracy: 0.8000\n"
     ]
    },
    {
     "data": {
      "text/plain": [
       "<keras.callbacks.History at 0x1f9e528b0d0>"
      ]
     },
     "execution_count": 38,
     "metadata": {},
     "output_type": "execute_result"
    }
   ],
   "source": [
    "model.fit(X_train,y_train,          \n",
    "          validation_data=(X_test,y_test),\n",
    "          epochs=100,\n",
    "          batch_size=32)"
   ]
  },
  {
   "cell_type": "code",
   "execution_count": null,
   "metadata": {
    "id": "88Hlnzgw_sfx"
   },
   "outputs": [],
   "source": []
  }
 ],
 "metadata": {
  "colab": {
   "collapsed_sections": [],
   "name": "deeplearning_IRIAS.ipynb",
   "provenance": []
  },
  "kernelspec": {
   "display_name": "Python 3 (ipykernel)",
   "language": "python",
   "name": "python3"
  },
  "language_info": {
   "codemirror_mode": {
    "name": "ipython",
    "version": 3
   },
   "file_extension": ".py",
   "mimetype": "text/x-python",
   "name": "python",
   "nbconvert_exporter": "python",
   "pygments_lexer": "ipython3",
   "version": "3.9.5"
  }
 },
 "nbformat": 4,
 "nbformat_minor": 1
}
