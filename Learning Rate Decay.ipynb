{
 "cells": [
  {
   "cell_type": "markdown",
   "id": "6a7edafe",
   "metadata": {},
   "source": [
    "# Time-Based Learning Rate Schedule"
   ]
  },
  {
   "cell_type": "code",
   "execution_count": 1,
   "id": "4aa4d5e2",
   "metadata": {},
   "outputs": [],
   "source": [
    "import pandas as pd\n",
    "from pandas import read_csv\n",
    "from keras.models import Sequential\n",
    "from keras.layers import Dense\n",
    "from keras.optimizers import SGD\n",
    "from sklearn.preprocessing import LabelEncoder"
   ]
  },
  {
   "cell_type": "code",
   "execution_count": 2,
   "id": "bf2a155b",
   "metadata": {},
   "outputs": [],
   "source": [
    "dataframe = pd.read_csv(ionosphere_csv.csv)\n",
    "dataset = dataframe.values"
   ]
  },
  {
   "cell_type": "markdown",
   "id": "22ba911e",
   "metadata": {},
   "source": [
    "# split into input (X) and output (Y) variables"
   ]
  },
  {
   "cell_type": "code",
   "execution_count": 3,
   "id": "866ea94c",
   "metadata": {},
   "outputs": [],
   "source": [
    "X = dataset[:,0:34].astype(float)\n",
    "Y = dataset[:,34]"
   ]
  },
  {
   "cell_type": "markdown",
   "id": "9b20a1c8",
   "metadata": {},
   "source": [
    "# encode class values as integers"
   ]
  },
  {
   "cell_type": "code",
   "execution_count": 4,
   "id": "203321f6",
   "metadata": {},
   "outputs": [],
   "source": [
    "encoder = LabelEncoder()\n",
    "encoder.fit(Y)\n",
    "Y = encoder.transform(Y)"
   ]
  },
  {
   "cell_type": "markdown",
   "id": "7f7f0d0b",
   "metadata": {},
   "source": [
    "# create model"
   ]
  },
  {
   "cell_type": "code",
   "execution_count": 5,
   "id": "dd39df28",
   "metadata": {},
   "outputs": [],
   "source": [
    "model = Sequential()\n",
    "model.add(Dense(34, input_dim=34, activation='relu'))\n",
    "model.add(Dense(1, activation='sigmoid'))"
   ]
  },
  {
   "cell_type": "markdown",
   "id": "aeeefaef",
   "metadata": {},
   "source": [
    "# Compile model"
   ]
  },
  {
   "cell_type": "code",
   "execution_count": 6,
   "id": "b736ddd3",
   "metadata": {},
   "outputs": [],
   "source": [
    "epochs = 50\n",
    "learning_rate = 0.1\n",
    "decay_rate = learning_rate / epochs\n",
    "momentum = 0.8\n",
    "sgd = SGD(lr=learning_rate, momentum=momentum, decay=decay_rate, nesterov=False)\n",
    "model.compile(loss='binary_crossentropy', optimizer=sgd, metrics=['accuracy'])"
   ]
  },
  {
   "cell_type": "markdown",
   "id": "fb89b86d",
   "metadata": {},
   "source": [
    "# Fit the model"
   ]
  },
  {
   "cell_type": "code",
   "execution_count": 7,
   "id": "ea2bb6b1",
   "metadata": {},
   "outputs": [
    {
     "name": "stdout",
     "output_type": "stream",
     "text": [
      "Epoch 1/50\n",
      "9/9 - 0s - loss: 0.6485 - accuracy: 0.6894 - val_loss: 0.5097 - val_accuracy: 0.8534\n",
      "Epoch 2/50\n",
      "9/9 - 0s - loss: 0.4397 - accuracy: 0.8596 - val_loss: 0.4067 - val_accuracy: 0.9138\n",
      "Epoch 3/50\n",
      "9/9 - 0s - loss: 0.3489 - accuracy: 0.8894 - val_loss: 0.2344 - val_accuracy: 0.9655\n",
      "Epoch 4/50\n",
      "9/9 - 0s - loss: 0.2749 - accuracy: 0.8979 - val_loss: 0.3312 - val_accuracy: 0.9052\n",
      "Epoch 5/50\n",
      "9/9 - 0s - loss: 0.2570 - accuracy: 0.9064 - val_loss: 0.1210 - val_accuracy: 0.9655\n",
      "Epoch 6/50\n",
      "9/9 - 0s - loss: 0.2323 - accuracy: 0.9106 - val_loss: 0.1140 - val_accuracy: 0.9741\n",
      "Epoch 7/50\n",
      "9/9 - 0s - loss: 0.2189 - accuracy: 0.9064 - val_loss: 0.2245 - val_accuracy: 0.9397\n",
      "Epoch 8/50\n",
      "9/9 - 0s - loss: 0.1668 - accuracy: 0.9489 - val_loss: 0.1580 - val_accuracy: 0.9828\n",
      "Epoch 9/50\n",
      "9/9 - 0s - loss: 0.1660 - accuracy: 0.9447 - val_loss: 0.0878 - val_accuracy: 0.9741\n",
      "Epoch 10/50\n",
      "9/9 - 0s - loss: 0.1566 - accuracy: 0.9489 - val_loss: 0.1365 - val_accuracy: 0.9569\n",
      "Epoch 11/50\n",
      "9/9 - 0s - loss: 0.1331 - accuracy: 0.9660 - val_loss: 0.1549 - val_accuracy: 0.9655\n",
      "Epoch 12/50\n",
      "9/9 - 0s - loss: 0.1253 - accuracy: 0.9702 - val_loss: 0.1148 - val_accuracy: 0.9828\n",
      "Epoch 13/50\n",
      "9/9 - 0s - loss: 0.1196 - accuracy: 0.9660 - val_loss: 0.0930 - val_accuracy: 0.9741\n",
      "Epoch 14/50\n",
      "9/9 - 0s - loss: 0.1169 - accuracy: 0.9660 - val_loss: 0.1149 - val_accuracy: 0.9828\n",
      "Epoch 15/50\n",
      "9/9 - 0s - loss: 0.1060 - accuracy: 0.9745 - val_loss: 0.0956 - val_accuracy: 0.9828\n",
      "Epoch 16/50\n",
      "9/9 - 0s - loss: 0.1055 - accuracy: 0.9745 - val_loss: 0.0965 - val_accuracy: 0.9828\n",
      "Epoch 17/50\n",
      "9/9 - 0s - loss: 0.0984 - accuracy: 0.9745 - val_loss: 0.1080 - val_accuracy: 0.9741\n",
      "Epoch 18/50\n",
      "9/9 - 0s - loss: 0.0949 - accuracy: 0.9787 - val_loss: 0.0819 - val_accuracy: 0.9828\n",
      "Epoch 19/50\n",
      "9/9 - 0s - loss: 0.0959 - accuracy: 0.9830 - val_loss: 0.0833 - val_accuracy: 0.9828\n",
      "Epoch 20/50\n",
      "9/9 - 0s - loss: 0.0902 - accuracy: 0.9787 - val_loss: 0.1083 - val_accuracy: 0.9914\n",
      "Epoch 21/50\n",
      "9/9 - 0s - loss: 0.0864 - accuracy: 0.9787 - val_loss: 0.0788 - val_accuracy: 0.9828\n",
      "Epoch 22/50\n",
      "9/9 - 0s - loss: 0.0850 - accuracy: 0.9830 - val_loss: 0.0900 - val_accuracy: 0.9914\n",
      "Epoch 23/50\n",
      "9/9 - 0s - loss: 0.0824 - accuracy: 0.9830 - val_loss: 0.0832 - val_accuracy: 0.9914\n",
      "Epoch 24/50\n",
      "9/9 - 0s - loss: 0.0802 - accuracy: 0.9787 - val_loss: 0.0778 - val_accuracy: 0.9828\n",
      "Epoch 25/50\n",
      "9/9 - 0s - loss: 0.0755 - accuracy: 0.9830 - val_loss: 0.0844 - val_accuracy: 0.9914\n",
      "Epoch 26/50\n",
      "9/9 - 0s - loss: 0.0743 - accuracy: 0.9830 - val_loss: 0.0868 - val_accuracy: 0.9914\n",
      "Epoch 27/50\n",
      "9/9 - 0s - loss: 0.0729 - accuracy: 0.9830 - val_loss: 0.0802 - val_accuracy: 0.9914\n",
      "Epoch 28/50\n",
      "9/9 - 0s - loss: 0.0733 - accuracy: 0.9872 - val_loss: 0.0693 - val_accuracy: 0.9914\n",
      "Epoch 29/50\n",
      "9/9 - 0s - loss: 0.0672 - accuracy: 0.9830 - val_loss: 0.0768 - val_accuracy: 0.9914\n",
      "Epoch 30/50\n",
      "9/9 - 0s - loss: 0.0653 - accuracy: 0.9830 - val_loss: 0.0681 - val_accuracy: 0.9914\n",
      "Epoch 31/50\n",
      "9/9 - 0s - loss: 0.0683 - accuracy: 0.9830 - val_loss: 0.0721 - val_accuracy: 0.9914\n",
      "Epoch 32/50\n",
      "9/9 - 0s - loss: 0.0653 - accuracy: 0.9830 - val_loss: 0.0770 - val_accuracy: 0.9914\n",
      "Epoch 33/50\n",
      "9/9 - 0s - loss: 0.0629 - accuracy: 0.9872 - val_loss: 0.0696 - val_accuracy: 0.9914\n",
      "Epoch 34/50\n",
      "9/9 - 0s - loss: 0.0597 - accuracy: 0.9830 - val_loss: 0.0700 - val_accuracy: 0.9914\n",
      "Epoch 35/50\n",
      "9/9 - 0s - loss: 0.0594 - accuracy: 0.9872 - val_loss: 0.0732 - val_accuracy: 0.9914\n",
      "Epoch 36/50\n",
      "9/9 - 0s - loss: 0.0584 - accuracy: 0.9830 - val_loss: 0.0725 - val_accuracy: 0.9914\n",
      "Epoch 37/50\n",
      "9/9 - 0s - loss: 0.0588 - accuracy: 0.9872 - val_loss: 0.0630 - val_accuracy: 0.9828\n",
      "Epoch 38/50\n",
      "9/9 - 0s - loss: 0.0564 - accuracy: 0.9872 - val_loss: 0.0658 - val_accuracy: 0.9914\n",
      "Epoch 39/50\n",
      "9/9 - 0s - loss: 0.0563 - accuracy: 0.9872 - val_loss: 0.0680 - val_accuracy: 0.9914\n",
      "Epoch 40/50\n",
      "9/9 - 0s - loss: 0.0553 - accuracy: 0.9872 - val_loss: 0.0633 - val_accuracy: 0.9914\n",
      "Epoch 41/50\n",
      "9/9 - 0s - loss: 0.0559 - accuracy: 0.9872 - val_loss: 0.0712 - val_accuracy: 0.9914\n",
      "Epoch 42/50\n",
      "9/9 - 0s - loss: 0.0549 - accuracy: 0.9872 - val_loss: 0.0693 - val_accuracy: 0.9914\n",
      "Epoch 43/50\n",
      "9/9 - 0s - loss: 0.0524 - accuracy: 0.9872 - val_loss: 0.0662 - val_accuracy: 0.9914\n",
      "Epoch 44/50\n",
      "9/9 - 0s - loss: 0.0516 - accuracy: 0.9872 - val_loss: 0.0679 - val_accuracy: 0.9914\n",
      "Epoch 45/50\n",
      "9/9 - 0s - loss: 0.0510 - accuracy: 0.9872 - val_loss: 0.0628 - val_accuracy: 0.9914\n",
      "Epoch 46/50\n",
      "9/9 - 0s - loss: 0.0499 - accuracy: 0.9872 - val_loss: 0.0677 - val_accuracy: 0.9914\n",
      "Epoch 47/50\n",
      "9/9 - 0s - loss: 0.0498 - accuracy: 0.9872 - val_loss: 0.0595 - val_accuracy: 0.9828\n",
      "Epoch 48/50\n",
      "9/9 - 0s - loss: 0.0483 - accuracy: 0.9872 - val_loss: 0.0646 - val_accuracy: 0.9828\n",
      "Epoch 49/50\n",
      "9/9 - 0s - loss: 0.0484 - accuracy: 0.9872 - val_loss: 0.0685 - val_accuracy: 0.9914\n",
      "Epoch 50/50\n",
      "9/9 - 0s - loss: 0.0479 - accuracy: 0.9872 - val_loss: 0.0669 - val_accuracy: 0.9914\n"
     ]
    },
    {
     "data": {
      "text/plain": [
       "<tensorflow.python.keras.callbacks.History at 0x226ebe75cd0>"
      ]
     },
     "execution_count": 7,
     "metadata": {},
     "output_type": "execute_result"
    }
   ],
   "source": [
    "model.fit(X, Y, validation_split=0.33, epochs=epochs, batch_size=28, verbose=2)"
   ]
  },
  {
   "cell_type": "code",
   "execution_count": null,
   "id": "d7f8ae37",
   "metadata": {},
   "outputs": [],
   "source": []
  }
 ],
 "metadata": {
  "kernelspec": {
   "display_name": "Python 3 (ipykernel)",
   "language": "python",
   "name": "python3"
  },
  "language_info": {
   "codemirror_mode": {
    "name": "ipython",
    "version": 3
   },
   "file_extension": ".py",
   "mimetype": "text/x-python",
   "name": "python",
   "nbconvert_exporter": "python",
   "pygments_lexer": "ipython3",
   "version": "3.9.5"
  }
 },
 "nbformat": 4,
 "nbformat_minor": 5
}
